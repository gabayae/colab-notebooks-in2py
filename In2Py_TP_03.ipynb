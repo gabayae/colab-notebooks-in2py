{
  "cells": [
    {
      "cell_type": "markdown",
      "metadata": {
        "id": "view-in-github",
        "colab_type": "text"
      },
      "source": [
        "<a href=\"https://colab.research.google.com/github/gabayae/colab-notebooks-in2py/blob/main/In2Py_TP_03.ipynb\" target=\"_parent\"><img src=\"https://colab.research.google.com/assets/colab-badge.svg\" alt=\"Open In Colab\"/></a>"
      ]
    },
    {
      "cell_type": "markdown",
      "metadata": {
        "id": "12_fdbLn8p4A"
      },
      "source": [
        "\n",
        "\n",
        "### <center> <b> <span style=\"color:blue;\"> Travaux Pratiques: Objets itérables ou conteneurs</span> </b></center>\n"
      ]
    },
    {
      "cell_type": "markdown",
      "metadata": {
        "id": "E_ZB23H68p4D"
      },
      "source": [
        "###  <center> <b> <span style=\"color:blue;\"> Listes </span> </b></center>"
      ]
    },
    {
      "cell_type": "code",
      "execution_count": null,
      "metadata": {
        "id": "TAzYC_Ev8p4F"
      },
      "outputs": [],
      "source": [
        ""
      ]
    },
    {
      "cell_type": "markdown",
      "metadata": {
        "id": "H0cIcjGk8p4G"
      },
      "source": [
        "#### **Exercice 00:** \n",
        ">**Déclarer une liste vide.**"
      ]
    },
    {
      "cell_type": "code",
      "execution_count": null,
      "metadata": {
        "id": "45QEMilz8p4I"
      },
      "outputs": [],
      "source": [
        ""
      ]
    },
    {
      "cell_type": "markdown",
      "metadata": {
        "id": "zZ0XnwpB8p4J"
      },
      "source": [
        "#### **Exercice 01:** \n",
        ">**Déclarer une liste de plus de 5 éléments.**"
      ]
    },
    {
      "cell_type": "markdown",
      "metadata": {
        "id": "tJpy6kNz8p4M"
      },
      "source": [
        "#### **Exercice 02:** \n",
        ">**Trouver la longueur de votre liste.**"
      ]
    },
    {
      "cell_type": "markdown",
      "metadata": {
        "id": "unFrwT5t8p4Q"
      },
      "source": [
        "#### **Exercice 03:** \n",
        ">**Obtenez le premier élément, l'élément central et le dernier élément de la liste.**\n",
        "\n"
      ]
    },
    {
      "cell_type": "code",
      "source": [
        ""
      ],
      "metadata": {
        "id": "R9eTrbgHVT-U"
      },
      "execution_count": null,
      "outputs": []
    },
    {
      "cell_type": "markdown",
      "metadata": {
        "id": "4Rqp8q0L8p4R"
      },
      "source": [
        "#### **Exercice 04:** \n",
        ">**Déclarez une liste appelée mixed_data_types, mettez votre (nom, âge, taille, état civil, adresse).**"
      ]
    },
    {
      "cell_type": "code",
      "execution_count": null,
      "metadata": {
        "id": "EoZPW2UH8p4S"
      },
      "outputs": [],
      "source": [
        ""
      ]
    },
    {
      "cell_type": "markdown",
      "metadata": {
        "id": "OPYSNV1l8p4T"
      },
      "source": [
        "#### **Exercice 05:** \n",
        "\n",
        "    1. Déclarez une variable liste appelée it_companies et attribuez les valeurs initiales Facebook, Google, Microsoft, Apple, IBM, Oracle et Amazon.\n",
        "\n",
        "    2. Imprimez la liste à l'aide de print()\n",
        "\n",
        "    3. Imprimez le nombre d'entreprises dans la liste\n",
        "\n",
        "    4. Imprimez la première, la moyenne et la dernière entreprise\n",
        "\n",
        "    5. Imprimez la liste après avoir modifié l'une des entreprises.\n",
        "\n",
        "    6. Ajout d'une entreprise informatique à it_companies\n",
        "\n",
        "    7. Insérer une entreprise informatique au milieu de la liste des entreprises\n",
        "\n",
        "    8. Changez le nom d'une des it_companies en majuscule (sauf IBM !)\n",
        "\n",
        "    9. Joignez les it_companies avec une chaîne '# ; '.\n",
        "\n",
        "    10. Vérifier si une certaine entreprise existe dans la liste it_companies.\n",
        "\n",
        "    11. Trier la liste en utilisant la méthode sort()\n",
        "\n",
        "    12. Inversez la liste par ordre décroissant à l'aide de la méthode reverse().\n",
        "\n",
        "    13. Supprimez les 3 premières entreprises de la liste.\n",
        "\n",
        "    14. Supprimez les 3 dernières entreprises de la liste.\n",
        "\n",
        "    15. Supprimez la ou les entreprises informatiques du milieu de la liste.\n",
        "\n",
        "    16. Supprimez la première entreprise informatique de la liste\n",
        "\n",
        "    17. Supprimez la ou les entreprises informatiques du milieu de la liste.\n",
        "\n",
        "    18. Retirer la dernière entreprise informatique de la liste\n",
        "\n",
        "    19. Supprimez toutes les entreprises informatiques de la liste\n",
        "\n",
        "    20. Détruire la liste des entreprises informatiques"
      ]
    },
    {
      "cell_type": "code",
      "execution_count": null,
      "metadata": {
        "id": "4M_XODba8p4V"
      },
      "outputs": [],
      "source": [
        ""
      ]
    },
    {
      "cell_type": "markdown",
      "metadata": {
        "id": "AfauolZA8p4V"
      },
      "source": [
        "#### **Exercice 06:** \n",
        "**Joindre les listes suivantes :**\n",
        "     \n",
        "         front_end = ['HTML', 'CSS', 'JS', 'React', 'Redux']  \n",
        "         back_end = ['Node','Express', 'MongoDB']"
      ]
    },
    {
      "cell_type": "markdown",
      "metadata": {
        "id": "kASFM1bh8p4X"
      },
      "source": [
        "#### **Exercice 07:** \n",
        "Voici une liste de 10 âges d'étudiants :\n",
        "\n",
        "         ages = [19, 22, 19, 24, 20, 25, 26, 24, 25, 24]\n",
        "         \n",
        " \n",
        "    1. Trier la liste et trouver l'âge minimum et maximum.\n",
        "    2. Ajoutez à nouveau l'âge minimum et l'âge maximum à la liste.\n",
        "    3. Trouvez l'âge médian (un élément du milieu ou deux éléments du milieu divisés par deux).\n",
        "    4. Trouvez l'âge moyen (somme de tous les éléments divisée par leur nombre).\n",
        "    4. Trouver l'intervalle des âges (max moins min)\n",
        "    5. Comparez les valeurs de (min - moyenne) et (max - moyenne) en utilisant la méthode abs().\n",
        "        "
      ]
    },
    {
      "cell_type": "markdown",
      "source": [
        ""
      ],
      "metadata": {
        "id": "1f0X_hVGYbNB"
      }
    },
    {
      "cell_type": "markdown",
      "metadata": {
        "id": "bF7FI4iT8p4i"
      },
      "source": [
        "###  <center> <b> <span style=\"color:blue;\"> Dictionnaires </span> </b></center>"
      ]
    },
    {
      "cell_type": "markdown",
      "metadata": {
        "id": "VzcSJMf18p4j"
      },
      "source": [
        "\n",
        "1. Créer un dictionnaire vide appelé `dog`\n",
        "2. Ajoute le nom, la couleur, la race, les pattes, l'âge au dictionnaire dog.\n",
        "3. Créez un dictionnaire student et ajoutez le prénom, le nom, le sexe, l'âge, l'état civil, les compétences, le pays, la ville et l'adresse comme clés pour le dictionnaire.\n",
        "4. Obtenez la longueur du dictionnaire student\n",
        "5. Récupérez la valeur des compétences et vérifiez le type de données, il doit s'agir d'une liste.\n",
        "6. Modifiez les valeurs des compétences en ajoutant une ou deux compétences.\n",
        "7. Obtenez les clés du dictionnaire sous forme de liste\n",
        "8. Obtenir les valeurs du dictionnaire sous forme de liste\n",
        "9. Transformer le dictionnaire en une liste de tuples en utilisant la méthode items()\n",
        "10. Supprimer un des éléments du dictionnaire\n",
        "11. Supprimer un des dictionnaires\n"
      ]
    },
    {
      "cell_type": "markdown",
      "metadata": {
        "id": "ugc1Itzb8p4l"
      },
      "source": [
        "<center> <b> <span style=\"color:orange;\"> 🎉 FÉLICITATIONS !🎉 </span> </b></center>"
      ]
    }
  ],
  "metadata": {
    "colab": {
      "name": "In2Py_TP_03.ipynb",
      "provenance": [],
      "collapsed_sections": [],
      "include_colab_link": true
    },
    "kernelspec": {
      "display_name": "Python 3",
      "language": "python",
      "name": "python3"
    },
    "language_info": {
      "codemirror_mode": {
        "name": "ipython",
        "version": 3
      },
      "file_extension": ".py",
      "mimetype": "text/x-python",
      "name": "python",
      "nbconvert_exporter": "python",
      "pygments_lexer": "ipython3",
      "version": "3.8.10"
    }
  },
  "nbformat": 4,
  "nbformat_minor": 0
}