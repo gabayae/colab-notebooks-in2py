{
  "cells": [
    {
      "cell_type": "markdown",
      "metadata": {
        "id": "view-in-github",
        "colab_type": "text"
      },
      "source": [
        "<a href=\"https://colab.research.google.com/github/gabayae/colab-notebooks-in2py/blob/main/01_Variables_et_affectations.ipynb\" target=\"_parent\"><img src=\"https://colab.research.google.com/assets/colab-badge.svg\" alt=\"Open In Colab\"/></a>"
      ]
    },
    {
      "cell_type": "markdown",
      "metadata": {
        "id": "2zw1c5QDSMWi"
      },
      "source": [
        "<div class=\"alert alert-block alert-info\" style=\"background-color: #301E40; border: 0px; -moz-border-radius: 10px; -webkit-border-radius: 10px;\">\n",
        "<br/><br/>\n",
        "<h3 style=\"font-size: 35px; color: white; align: center;\"><center>\n",
        "<img src=\"https://th.bing.com/th/id/OIP._sf83AYB5O_8l6pVD3EQkgAAAA?w=140&h=150&c=7&r=0&o=5&dpr=1.25&pid=1.7\n",
        "\" width=\"150px\" /><br/><br/>\n",
        "    Variables et affectations\n",
        " </center></h3>\n",
        "\n",
        "</div>\n"
      ]
    },
    {
      "cell_type": "markdown",
      "metadata": {
        "id": "Y0Z4c8WOSMWl"
      },
      "source": [
        "****\n",
        "\n",
        "\n",
        "### <left> <b> <span style=\"color:brown;\">Instructeur : </span> </b></left>[Yaé Ulrich Gaba](https://github.com/gabayae)\n",
        "\n",
        "\n",
        "\n",
        "\n",
        ">    **Résumé:** Dès que l’on possède des *types de données*, on a besoin des *variables* pour stocker les\n",
        "    données.\n",
        "    En réalité, Python n’offre pas la notion de variable, mais plutôt celle de *référence d’objet*. Tant\n",
        "    que l’objet n’est pas modifiable (comme les entiers, les flottants, etc.), il n’y a pas de différence\n",
        "    notable. Dans le présent calepin, nous discutons les grandes lignes atour de l'utilisation des variables sous Python.\n",
        "****"
      ]
    },
    {
      "cell_type": "markdown",
      "metadata": {
        "id": "zhZOMDGbSMWm"
      },
      "source": [
        "### Définir une variable\n",
        "\n",
        "Sous Python, une variable est un objet de programmation permettant de stocker une\n",
        "information en mémoire de la machine en attribuant un nom symbolique. Une variable est\n",
        "définie en utilisant l’opérateur mathématique `=` soit par assignation directe de sa valeur, ou par\n",
        "une assignation à partir de la valeur d’une autre variable. Exemples :"
      ]
    },
    {
      "cell_type": "code",
      "execution_count": null,
      "metadata": {
        "id": "2uPaelu6SMWn"
      },
      "outputs": [],
      "source": [
        "x = 86 # définit la variable nommée x et lui assigne la valeur 86"
      ]
    },
    {
      "cell_type": "code",
      "execution_count": null,
      "metadata": {
        "id": "308akSC0SMWo"
      },
      "outputs": [],
      "source": [
        "y = 4.8134 # définit la variable nommée y et lui assigne la valeur 4.8134\n",
        "salutation = \"Comment allez-vous ?\" # Définit la variable nommée salutation et lui assigne la valeur \" Comment allez-vous ?\""
      ]
    },
    {
      "cell_type": "markdown",
      "metadata": {
        "id": "uEBoNVqqSMWp"
      },
      "source": [
        "Pour afficher les valeurs des trois variables définies, on utilise la fonction **print()**-sur laquelle nous reviendrons quand nous parlerons des *objets fonctions sous Python*."
      ]
    },
    {
      "cell_type": "code",
      "execution_count": null,
      "metadata": {
        "id": "n0zoLYaLSMWp"
      },
      "outputs": [],
      "source": [
        "print(x)\n",
        "print(y)\n",
        "print(salutation)"
      ]
    },
    {
      "cell_type": "markdown",
      "metadata": {
        "id": "mY5pNfHKSMWq"
      },
      "source": [
        "Pour afficher les trois valeurs sur la même ligne on utilise une seule fonction print() en séparant\n",
        "les variables par des virgules :"
      ]
    },
    {
      "cell_type": "code",
      "execution_count": null,
      "metadata": {
        "id": "suP7_1ycSMWr"
      },
      "outputs": [],
      "source": [
        "print(x,y,salutation)"
      ]
    },
    {
      "cell_type": "markdown",
      "metadata": {
        "id": "PDP_hFJKSMWr"
      },
      "source": [
        "Les examples présentes entrent dans le cadre de ce qe nous appelons `assignation directe`. Une `assignation multiple` est un cas d'`assignation directe` qui consiste à attribuer une même valeur à plusieurs variables dans la\n",
        "même ligne de code. Exemple :"
      ]
    },
    {
      "cell_type": "code",
      "execution_count": null,
      "metadata": {
        "id": "L8cR_fqKSMWs"
      },
      "outputs": [],
      "source": [
        "x = y = 7 # x et y prennent la même valeur simultanément 7."
      ]
    },
    {
      "cell_type": "markdown",
      "metadata": {
        "id": "g4qwd_aQSMWs"
      },
      "source": [
        "Une `assignation parallèle` consiste à définir plusieurs variables en utilisant un seul symbole\n",
        "d’égalité. Exemple :"
      ]
    },
    {
      "cell_type": "code",
      "execution_count": null,
      "metadata": {
        "id": "n1ybE7TsSMWt"
      },
      "outputs": [],
      "source": [
        "x, y = 4, 8.33 # On définit deux variables x et y dont les valeurs sont respectivement 4 et 8.33."
      ]
    },
    {
      "cell_type": "markdown",
      "metadata": {
        "id": "36XIMBDNSMWt"
      },
      "source": [
        "<left> <b> <span style=\"color:red;\">Affecter n’est pas comparer !</span> </b></left>\n",
        "Il faut bien prendre garde au fait que l’instruction d’affectation `« = »` n’a pas la même signification que le symbole d’égalité `« = »` en mathématiques. Par exemple, le premier n’est pas\n",
        "symétrique, alors que le second l’est : vouloir échanger l’ordre des éléments dans une instruction d’affectation produira immanquablement une erreur dans l’interpréteur :"
      ]
    },
    {
      "cell_type": "code",
      "execution_count": null,
      "metadata": {
        "id": "u0y7upRnSMWt"
      },
      "outputs": [],
      "source": [
        "# Erreur\n",
        "128 = a"
      ]
    },
    {
      "cell_type": "code",
      "execution_count": null,
      "metadata": {
        "id": "TuU4oS8gSMWu"
      },
      "outputs": [],
      "source": [
        "Ceci nous appelle a parler brièvement des noms de variables admissibles sous Python. "
      ]
    },
    {
      "cell_type": "markdown",
      "metadata": {
        "id": "EmpKANh0SMWu"
      },
      "source": [
        "####  <left> <b> <span style=\"color:brown;\">Conventions de nommage </span> </b></left>"
      ]
    },
    {
      "cell_type": "markdown",
      "metadata": {
        "id": "wxkbCIt0SMWu"
      },
      "source": [
        "Les conventions de nommage des différents éléments de code sont importantes car elles donnent des informations supplé-\n",
        "mentaires aux développeurs quant à la nature de certains attributs ou certaines variables.\n",
        "La convention pour les noms de variable est la suivante:\n",
        "\n",
        "   - Les mots réservés tels que `if`, `else` , etc., ne peuvent être utilisés comme noms de variables;\n",
        "   - Les noms de variables peuvent debuter avec `_` , `$` , ou une lettre;\n",
        "   - Les noms de variables peuvent etre en miniscule ou en majuscule;\n",
        "   - Les noms de variables ne peuvent debuter avec un chiffre;\n",
        "   - Les espaces blancs ne sont pas autorisés dans les noms de variables.\n",
        "\n",
        "<left> <b> <span style=\"color:brown;\"> Le bon programmeur s’efforce bien entendu de choisir les noms de variables les plus pertinents possible. </span> </b></left>"
      ]
    },
    {
      "cell_type": "markdown",
      "metadata": {
        "id": "tMf_0oLDSMWv"
      },
      "source": [
        "Sous Python, il existe **33** mots réservés dont la liste est fournie ci-dessous:"
      ]
    },
    {
      "cell_type": "markdown",
      "metadata": {
        "id": "Ett7rw7KSMWv"
      },
      "source": [
        "<center>\n",
        "    <img src=\"images/python-keywords.png\" width=\"50%\">\n",
        "    </center>"
      ]
    },
    {
      "cell_type": "markdown",
      "metadata": {
        "id": "nrqnYl4ESMWv"
      },
      "source": [
        "|             |                  |                  |                  |                  | \n",
        "|-------------|------------------|------------------|------------------|------------------|\n",
        "|``and``      | ``elif``         | ``if``           | ``or``           | ``yield``        |\n",
        "|``as``       | ``else``         | ``import``       | ``pass``         |                  | \n",
        "|``assert``   | ``except``       | ``in``           | ``raise``        |                  |  \n",
        "|``break``    | ``False``        | ``is``           | ``return``       |                  |\n",
        "|``class``    | ``finally``      | ``lambda``       | ``True``         |                  |\n",
        "|``continue`` | ``for``          | ``None``         | ``try``          |                  |\n",
        "|``def``      | ``from``         | ``nonlocal``     | ``while``        |                  |\n",
        "|``del``      | ``global``       | ``not``          | ``with``         |                  |"
      ]
    },
    {
      "cell_type": "markdown",
      "metadata": {
        "id": "p2Ngda8hSMWw"
      },
      "source": [
        "**Remarque**: Python est sensible à la casse, ainsi, les noms de variables `Age` et `age` sont distincts. Suivant le langage, il y a une [convention de nommage](https://en.wikipedia.org/wiki/Naming_convention_(programming)#Python_and_Ruby) pour les variables qui est recommandée. \n",
        "\n",
        "- `UpperCamelCase` pour les noms de classe;\n",
        "\n",
        "- `CAPITALIZED_WITH_UNDERSCORES` pour les constantes;\n",
        "\n",
        "- `lowercase_separated_by_underscores` ou `snake_case` pour les autres variables."
      ]
    },
    {
      "cell_type": "markdown",
      "metadata": {
        "id": "75PWcnlNSMWw"
      },
      "source": [
        "****\n",
        "**Un exercice fondamental : l’échange des contenus de deux variables**\n",
        "\n",
        "> On suppose que les variables `x` et `y` ont pour valeurs respectives des entiers $\\alpha$ et $\\beta$. On souhaite\n",
        "échanger le contenu de ces deux variables.\n",
        "\n",
        ">   - a. Première méthode : Proposer une méthode qui utilise une variable auxiliaire `tmp`.\n",
        "       ```python\n",
        "          tmp = x\n",
        "          x = y\n",
        "          y = tmp\n",
        "       ```\n",
        ">   - b. Deuxième méthode : On exécute la séquence d’instructions suivante :\n",
        "       ```python \n",
        "          x = x + y; y = x - y; x = x - y  \n",
        "       ```\n",
        "       \n",
        ">   - c. Troisième méthode (la plus « pythonique ») : Utiliser une affectation parallèle.\n",
        "      ```python\n",
        "         x, y = y, x\n",
        "      ```   \n",
        "**** \n",
        "\n",
        "Example: \n"
      ]
    },
    {
      "cell_type": "code",
      "execution_count": null,
      "metadata": {
        "id": "9nHWkfM1SMWw"
      },
      "outputs": [],
      "source": [
        "# Première méthode\n",
        "\n",
        "x = 5\n",
        "y = 4  \n",
        "print(x,y)\n",
        "print(\"================================================\")\n",
        "print('\\t')\n",
        "\n",
        "tmp = x\n",
        "x = y\n",
        "y = tmp\n",
        "print(x,y)\n",
        "\n",
        "\n",
        "\n",
        "\n",
        "# Deuxième méthode\n",
        "\n",
        "x = 7\n",
        "y = 9 \n",
        "print(x,y)\n",
        "print(\"================================================\")\n",
        "print('\\t')\n",
        "\n",
        "\n",
        "x = x + y; y = x - y; x = x - y \n",
        "print(x,y)\n",
        "\n",
        "\n",
        "\n",
        "\n",
        "\n",
        "#Troisième méthode\n",
        "x = 90\n",
        "y = 15\n",
        "print(x,y)\n",
        "print(\"================================================\")\n",
        "print('\\t')\n",
        "\n",
        "\n",
        "x, y = y, x\n",
        "print(x,y)\n",
        "\n"
      ]
    },
    {
      "cell_type": "markdown",
      "metadata": {
        "id": "PROS7BR5SMWx"
      },
      "source": [
        "Signalons rapidement que pour supprimer une variable, on dispose de la fonction `del`."
      ]
    },
    {
      "cell_type": "markdown",
      "metadata": {
        "id": "Ut01SfVdSMWx"
      },
      "source": [
        "### Type d’une variable\n",
        "\n",
        "Le type d’une variable correspond à la nature de celle-ci. Il existe de nombreux autres types de\n",
        "variables (nombre entier, nombre réel, chaînes de caractères, etc). Les types de variables les\n",
        "plus couramment rencontrés sont les entier (int) , les nombres réels (float), les chaînes de\n",
        "caractères (str).\n",
        "\n",
        "Les types de base sont:\n",
        "\n",
        "   - None (rien)\n",
        "   - Chaînes de caractères : `str`\n",
        "      - Entre (simples, doubles ou triples) apostrophes `'` ou guillemets `\"` : `'Calvin'`, `\"Calvin'n'Hobbes\"`,\n",
        "       `'''Deux\\nlignes'''`, `\"\"\"'Pourquoi?' demanda-t-il.\"\"\"`\n",
        "      - Conversion : `str(3.2)`\n",
        "   - Types numériques :\n",
        "      - Booléens `bool`, (vrai/faux) : `True`, `False`,\n",
        "      - Entiers `int` (pas de valeur limite explicite, correspond au moins au long du C) : `-2`, `int(2.1)`, `int(\"4\")`\n",
        "      - Réels `float`\n",
        "      - Complexes`complex`:`1+2j`, `5.1j`, `complex(-3.14)`, `complex('j')`\n",
        "   - Objets itérables :\n",
        "      - Listes `list` : ['a', 3, [1, 2], 'a']\n",
        "      - Listes immuables `tuple` : (2, 3.1, 'a', []) (selon les conditions d’utilisation, les parenthèses ne sont pas toujours nécessaires)\n",
        "      - Listes à clés `dict` : {'a':1, 'b':[1, 2], 3:'c'}\n",
        "      - Ensembles non ordonnés d’éléments uniques `set` : {1, 2, 3, 2}"
      ]
    },
    {
      "cell_type": "markdown",
      "metadata": {
        "id": "d6RDmHqGSMWx"
      },
      "source": [
        "Python est un langage au typage dynamique, c’est-à-dire qu’il reconnaît directement le type\n",
        "des variables lorsque sa valeur est indiquée. Ainsi, contrairement à d'autres langages comme le\n",
        "langage C, il n'y a pas de déclaration de type obligatoire lors de la création d'une variable.\n",
        "Exemples :"
      ]
    },
    {
      "cell_type": "code",
      "execution_count": null,
      "metadata": {
        "id": "L-axk3qpSMWx"
      },
      "outputs": [],
      "source": [
        "x = 2 # type entier (int)\n",
        "x = 2. # type réel (float avec décimaux)\n",
        "x = '2' # type caractère (string)"
      ]
    },
    {
      "cell_type": "markdown",
      "metadata": {
        "id": "Ai0SikubSMWy"
      },
      "source": [
        "Pour connaitre le type d’une variable, on utilise la fonction `type()`."
      ]
    },
    {
      "cell_type": "code",
      "execution_count": null,
      "metadata": {
        "id": "XfACsz7LSMWy"
      },
      "outputs": [],
      "source": [
        "i = 123\n",
        "type(i) # renvoie <type 'int'>"
      ]
    },
    {
      "cell_type": "code",
      "execution_count": null,
      "metadata": {
        "id": "ukctHGuESMWy"
      },
      "outputs": [],
      "source": [
        "type(i) is int # renvoie True"
      ]
    },
    {
      "cell_type": "code",
      "execution_count": null,
      "metadata": {
        "id": "aXGEGDRFSMWy"
      },
      "outputs": [],
      "source": [
        "#j = 123456789L\n",
        "#type(j) # renvoie <type 'long'>"
      ]
    },
    {
      "cell_type": "code",
      "execution_count": null,
      "metadata": {
        "id": "KGmyHiQmSMWy"
      },
      "outputs": [],
      "source": [
        "#type(j) is long # renvoie True"
      ]
    },
    {
      "cell_type": "code",
      "execution_count": null,
      "metadata": {
        "id": "lV9XD7VKSMWz"
      },
      "outputs": [],
      "source": [
        "k = 123.456\n",
        "type(k) # renvoie <type 'float'>"
      ]
    },
    {
      "cell_type": "code",
      "execution_count": null,
      "metadata": {
        "id": "HoUinmHgSMWz"
      },
      "outputs": [],
      "source": [
        "type(k) is float # renvoie True"
      ]
    },
    {
      "cell_type": "code",
      "execution_count": null,
      "metadata": {
        "id": "QqybaNyoSMWz"
      },
      "outputs": [],
      "source": [
        "m = 'ABCD'\n",
        "type(m) # renvoie <type 'str'>"
      ]
    },
    {
      "cell_type": "code",
      "execution_count": null,
      "metadata": {
        "id": "lCFa_kmxSMWz"
      },
      "outputs": [],
      "source": [
        "type(m) is str # renvoie True"
      ]
    },
    {
      "cell_type": "markdown",
      "metadata": {
        "id": "kyPCFlgWSMWz"
      },
      "source": [
        "Il faut remarquer que les variables en chaînes de caractères sont toujours définies avec des\n",
        "guillemets. Avec des guillemets\n",
        "simples, on a des chaines de types char alors qu’avec des guillemets doubles, on obtient des\n",
        "chaînes de type string. Noter aussi que même si une variable est définie avec des nombres,\n",
        "lorsque ces nombres sont indiqués avec des guillemets, python traite cette variable comme\n",
        "une chaine de caractères. Néanmoins, il existe des fonctions pour convertir une variable d’un\n",
        "type à un autre lorsque cette conversion est autorisée. Voir les exemples suivants."
      ]
    },
    {
      "cell_type": "code",
      "execution_count": null,
      "metadata": {
        "id": "29LvuIdNSMW0"
      },
      "outputs": [],
      "source": [
        "#Conversion d’une variable de type caractère en variable de type entier ou réel.\n",
        "\n",
        "x='2'\n",
        "print(x)\n",
        "print(\"================================================\")\n",
        "print('\\t')\n",
        "\n",
        "\n",
        "x = int(x)\n",
        "print(x)\n",
        "print(\"================================================\")\n",
        "print('\\t')\n",
        "\n",
        "\n",
        "\n",
        "x=float(x)\n",
        "print(x)\n"
      ]
    },
    {
      "cell_type": "code",
      "execution_count": null,
      "metadata": {
        "id": "jnL1B15fSMW0"
      },
      "outputs": [],
      "source": [
        "#Conversion d’une variable de type numérique (entier ou réel) en variable de type caractère.\n",
        "y=2.4756\n",
        "y=str(y)\n",
        "print(y)"
      ]
    },
    {
      "cell_type": "markdown",
      "metadata": {
        "id": "UBb3cNnLSMW0"
      },
      "source": [
        "En conclusion, on peut noter que toutes les variables numériques sont convertible en type\n",
        "caractère mais une variable n’est convertible en type numérique que lorsque la valeur de celle-\n",
        "ci est constituée uniquement de chiffres."
      ]
    },
    {
      "cell_type": "code",
      "execution_count": null,
      "metadata": {
        "id": "jWzFzBamSMW0"
      },
      "outputs": [],
      "source": [
        "A = \"On essaie\"\n",
        "A = int(A)\n",
        "A"
      ]
    },
    {
      "cell_type": "markdown",
      "metadata": {
        "id": "YbnA1vbkSMW0"
      },
      "source": [
        "### Méthodes associées aux variables\n",
        "\n",
        "A chaque variable créée dans python, est associé un ensemble d’attributs (ex : type) mais aussi\n",
        "un ensemble de méthodes, c'est à dire un ensemble d’opérations de traitement et\n",
        "d’exploitation réalisable avec cette variable. Pour afficher l'ensemble des méthodes d'une\n",
        "variable, on utilise la commande `dir()`. Exemple :"
      ]
    },
    {
      "cell_type": "code",
      "execution_count": null,
      "metadata": {
        "id": "1FmgsEySSMW0"
      },
      "outputs": [],
      "source": [
        "x=2.5 # Définit une variable numérique x\n",
        "y='mon texte' # Définit une variable en chaîne de caractères y."
      ]
    },
    {
      "cell_type": "markdown",
      "metadata": {
        "id": "Aq-tIzFUSMW1"
      },
      "source": [
        "Pour afficher l’ensemble des méthodes associées à chacune de ces variables, on fait :\n"
      ]
    },
    {
      "cell_type": "code",
      "execution_count": null,
      "metadata": {
        "id": "U6YC9dVHSMW1"
      },
      "outputs": [],
      "source": [
        "print(dir(x))\n"
      ]
    },
    {
      "cell_type": "code",
      "execution_count": null,
      "metadata": {
        "id": "_JuqoJ9mSMW1"
      },
      "outputs": [],
      "source": [
        "print(dir(y))"
      ]
    },
    {
      "cell_type": "markdown",
      "metadata": {
        "id": "_C7fXSRoSMW2"
      },
      "source": [
        "On peut aussi faire `nom_de_la_variable.` suivi de `TAB`."
      ]
    },
    {
      "cell_type": "markdown",
      "metadata": {
        "id": "SO0e8s1jSMW2"
      },
      "source": [
        "Ainsi, pour obtenir de l’aide sur une méthode spécifique, on utilise la fonction `help()` comme\n",
        "suit : `help(x.nomMethode)` où nomMethode est le nom de la méthode considérée. Par exemple, pour une variable numérique de type `float`, il existe une méthode nommé `conjugate`.\n",
        "Pour obtenir de l’aide sur cette fonction, on fait :\n",
        "`print(help(x.conjugate))`"
      ]
    },
    {
      "cell_type": "code",
      "execution_count": null,
      "metadata": {
        "id": "srSh1m0aSMW2"
      },
      "outputs": [],
      "source": [
        "print(help(x.conjugate))"
      ]
    },
    {
      "cell_type": "markdown",
      "metadata": {
        "id": "Ubqd5vBiSMW2"
      },
      "source": [
        "Pour afficher l’aide sur toutes les fonctions associées à la variable x, on fait simplement :\n"
      ]
    },
    {
      "cell_type": "code",
      "execution_count": null,
      "metadata": {
        "id": "9HUzUo_pSMW3"
      },
      "outputs": [],
      "source": [
        "print(help(x))"
      ]
    },
    {
      "cell_type": "markdown",
      "metadata": {
        "id": "Om2qXPAUSMW3"
      },
      "source": [
        "### Les opérateurs arithmétiques et logiques (booléens)\n",
        "\n",
        "Deux grandes catégories d’opérateurs sont utilisées en Python pour définir les variables et les\n",
        "instructions. Il s’agit des opérateurs arithmétiques et algébriques et les opérateurs logiques.\n",
        "Les premiers permettent de réaliser les opérations mathématiques courantes tandis que les\n",
        "seconds permettent de réaliser des comparaisons de valeurs. Une valeur booléenne est une\n",
        "évaluation logique représentant l’une des deux possibilités suivantes : vrai ou faux. Les valeurs\n",
        "booléennes sont le résultat de l’évaluation d’expressions logiques et elles servent à faire des\n",
        "choix dans un programme (effectuer telle action quand telle condition est réalisée)."
      ]
    },
    {
      "cell_type": "markdown",
      "metadata": {
        "id": "PisDkwGMSMW3"
      },
      "source": [
        "## <center> Opérateurs arithmétiques </center>\n",
        "   \n",
        "|  Opérations    $\\quad \\qquad$        | Symboles  $\\qquad$          | Exemples          |\n",
        "|-------------:|:------------------:|------------------:|\n",
        "| Addition $ \\qquad \\qquad$     |       $+ \\quad \\qquad$            |  $x = 2 + 3$          | \n",
        "| Soustraction $\\qquad \\quad$     |    $- \\quad \\qquad$      |   $z = x -y$      |                 \n",
        "| Multiplication $\\qquad \\quad$  |  $* \\quad \\qquad$      |   $y=3*x$         | \n",
        "| Division (quotient réel)  $\\qquad \\quad$        | $/\\quad \\qquad$  | $5/2=2.5 $ |\n",
        "| Division (quotient entier)  $\\qquad \\quad$         |$//\\quad \\qquad$  | $5//2=2$|\n",
        "| Puissance $\\qquad \\quad$          | $**\\quad \\qquad$ | $x^{**}2=x*x$ |\n",
        "| Reste de la division modulo $\\qquad \\quad$          | $\\% \\quad \\qquad$  |$17\\%3 =2$  |\n",
        "| Addition incrémentée    $\\qquad \\quad$       | $+$$=\\quad \\qquad$ | ($x$$+$$=$$4$ ) $\\iff$ $x=x+4$|\n",
        "| Soustraction incrémentée    $\\qquad \\quad$       | $-$$=\\quad \\qquad$ | ($x$$-$$=$$4$ ) $\\iff$ $x=x-4$|"
      ]
    },
    {
      "cell_type": "markdown",
      "metadata": {
        "id": "QURY8lp0SMW3"
      },
      "source": [
        "<center>\n",
        "    <img src=\"images/operateurs1.png\" width=\"25%></center>    \n",
        "                                                                                                               "
      ]
    },
    {
      "cell_type": "markdown",
      "metadata": {
        "id": "1zdPBY44SMW3"
      },
      "source": [
        "<center>\n",
        "    <img src=\"images/operateurs11.png\" width=\"25%></center>"
      ]
    },
    {
      "cell_type": "markdown",
      "metadata": {
        "id": "gqFYsog8SMW3"
      },
      "source": [
        "<center>\n",
        "    <img src=\"images/operateurs2.png\" width=\"25%></center>"
      ]
    },
    {
      "cell_type": "markdown",
      "metadata": {
        "id": "vDQitZosSMW4"
      },
      "source": [
        "<center>\n",
        "    <img src=\"images/operateurs22.png\" width=\"25%></center>"
      ]
    },
    {
      "cell_type": "markdown",
      "metadata": {
        "id": "tQkZfeDDSMW4"
      },
      "source": [
        "Pour accéder à la liste complète des opérateurs standards de python et leurs équivalents fonctions, voir [cette page](https://docs.python.org/2/library/operator.html). L'on pourra aussi consulter [cette page](http://www.tutorialspoint.com/python/python_basic_operators.htm) pour quelques exemples\n",
        "d’utilisations des opérateurs standards."
      ]
    },
    {
      "cell_type": "markdown",
      "metadata": {
        "id": "418IQgDYSMW4"
      },
      "source": [
        "<!--NAVIGATION-->\n",
        "<  [0. Introduction](00.Introduction_a_python.ipynb)| [Sommaire](Index.ipynb) | [2. Chaînes de caractères](02-Chaînes_de_caractères.ipynb) >\n"
      ]
    }
  ],
  "metadata": {
    "kernelspec": {
      "display_name": "Python 3",
      "language": "python",
      "name": "python3"
    },
    "language_info": {
      "codemirror_mode": {
        "name": "ipython",
        "version": 3
      },
      "file_extension": ".py",
      "mimetype": "text/x-python",
      "name": "python",
      "nbconvert_exporter": "python",
      "pygments_lexer": "ipython3",
      "version": "3.7.4"
    },
    "varInspector": {
      "cols": {
        "lenName": 16,
        "lenType": 16,
        "lenVar": 40
      },
      "kernels_config": {
        "python": {
          "delete_cmd_postfix": "",
          "delete_cmd_prefix": "del ",
          "library": "var_list.py",
          "varRefreshCmd": "print(var_dic_list())"
        },
        "r": {
          "delete_cmd_postfix": ") ",
          "delete_cmd_prefix": "rm(",
          "library": "var_list.r",
          "varRefreshCmd": "cat(var_dic_list()) "
        }
      },
      "types_to_exclude": [
        "module",
        "function",
        "builtin_function_or_method",
        "instance",
        "_Feature"
      ],
      "window_display": false
    },
    "colab": {
      "name": "01.Variables_et_affectations.ipynb",
      "provenance": [],
      "include_colab_link": true
    }
  },
  "nbformat": 4,
  "nbformat_minor": 0
}