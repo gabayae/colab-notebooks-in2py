{
  "cells": [
    {
      "cell_type": "markdown",
      "metadata": {
        "id": "view-in-github",
        "colab_type": "text"
      },
      "source": [
        "<a href=\"https://colab.research.google.com/github/gabayae/colab-notebooks-in2py/blob/main/In2Py_TP_01.ipynb\" target=\"_parent\"><img src=\"https://colab.research.google.com/assets/colab-badge.svg\" alt=\"Open In Colab\"/></a>"
      ]
    },
    {
      "cell_type": "markdown",
      "metadata": {
        "id": "22f02e1a"
      },
      "source": [
        "\n",
        "### <center> <b> <span style=\"color:blue;\"> Travaux Pratiques: Variables, Types & Opérations </span> </b></center>"
      ],
      "id": "22f02e1a"
    },
    {
      "cell_type": "markdown",
      "metadata": {
        "id": "ddc667e7"
      },
      "source": [
        "**Exercise 00:**  \n",
        ">\n",
        "\n",
        "  \n",
        "> 1. Déclarez une variable `prenom` et attribuez-lui une valeur.\n",
        "  > 2. Déclarez une variable `nom` et attribuez-lui une valeur.\n",
        "  > 3. Déclarez une variable `prenom_nom` et attribuez-lui une valeur.\n",
        "  > 4. Déclarez une variable `pays` et attribuez-lui une valeur.\n",
        "  > 5. Déclarez une variable `ville` et attribuez-lui une valeur.\n",
        "  > 6. Déclarez une variable `age` et attribuez-lui une valeur.\n",
        "  > 7. Déclarez une variable `annee` et attribuez-lui une valeur.\n",
        "  > 8. Déclarez une variable `est_marie` et attribuez-lui une valeur.\n",
        "  > 9. Déclarez une variable `est_vrai` et attribuez-lui une valeur.\n",
        "\n",
        "> Pour chacune des variables ci-dessus, affichez la valeur qu'elle contient à l'aide de la fonction `print()`.\n",
        "\n"
      ],
      "id": "ddc667e7"
    },
    {
      "cell_type": "code",
      "execution_count": null,
      "metadata": {
        "id": "ebd3951d"
      },
      "outputs": [],
      "source": [
        "\n"
      ],
      "id": "ebd3951d"
    },
    {
      "cell_type": "markdown",
      "metadata": {
        "id": "85eb4f96"
      },
      "source": [
        "**Exercise 01:** \n",
        "> Vérifiez le type de données de toutes vos variables à l'aide de la fonction intégrée `type()`.**\n"
      ],
      "id": "85eb4f96"
    },
    {
      "cell_type": "code",
      "execution_count": null,
      "metadata": {
        "id": "c5c47124"
      },
      "outputs": [],
      "source": [
        "#type(prenom)\n",
        "#type(nom)\n",
        "#type(nom_prenom)\n",
        "#type(ville)\n",
        "#type(age)\n",
        "#type (annee)\n",
        "#type(est_marrie)\n",
        "#type(est_vrai)\n",
        "# Décommenter pour avoir le type "
      ],
      "id": "c5c47124"
    },
    {
      "cell_type": "markdown",
      "metadata": {
        "id": "76cdc19b"
      },
      "source": [
        "**Exercise 02:** \n",
        "> Calculez la valeur de $y$ ($y = x^2 + 6x + 9$). Essayez d'utiliser différentes valeurs de $x$ et déterminez à quelle valeur de $x$ $y$ sera égal à 0.**"
      ],
      "id": "76cdc19b"
    },
    {
      "cell_type": "code",
      "execution_count": null,
      "metadata": {
        "id": "fb4df11a"
      },
      "outputs": [],
      "source": [
        ""
      ],
      "id": "fb4df11a"
    },
    {
      "cell_type": "markdown",
      "metadata": {
        "id": "8f40e3ab"
      },
      "source": [
        "**Exercise 03:** \n",
        ">    \n",
        "\n",
        "     1. Déclarez votre âge sous forme de variable entière\n",
        "     2. Déclarez votre taille en tant que variable flottante\n",
        "     3. Déclarez une variable qui stocke la base et la hauteur d'un triangle. Calculez l'aire de ce triangle (aire = 0,5 x b x h)."
      ],
      "id": "8f40e3ab"
    },
    {
      "cell_type": "code",
      "execution_count": null,
      "metadata": {
        "id": "rpAlhgG_9A5z"
      },
      "outputs": [],
      "source": [
        ""
      ],
      "id": "rpAlhgG_9A5z"
    },
    {
      "cell_type": "markdown",
      "metadata": {
        "id": "9957391d"
      },
      "source": [
        "## *Astuce : recevoir les entrées de l'utilisateur *\n",
        "**Pour recevoir une entrée de l'utilisateur, nous utilisons `input()`.**.\n",
        "\n",
        "**Exemple**\n",
        "Recevez deux nombres en entrée de l'utilisateur et calculez leur puissance :\n",
        "```python\n",
        "base = input(\"Entrez une base : \")\n",
        "exposant = input(\"Entrez un exposant : \")\n",
        "resultat = float(base) ** float(exposant)\n",
        "print(f \"{base} à la puissance {exposant} = {résultat}\")\n",
        "```"
      ],
      "id": "9957391d"
    },
    {
      "cell_type": "markdown",
      "metadata": {
        "id": "0fb34716"
      },
      "source": [
        "**Exercise 04:** \n",
        "> **Write a small code that asks the user to enter the side $a$, the side $b$ and the side $c$ of a triangle. Calculate the perimeter of the triangle (perimeter = a + b + c).**"
      ],
      "id": "0fb34716"
    },
    {
      "cell_type": "code",
      "execution_count": null,
      "metadata": {
        "id": "6618f067"
      },
      "outputs": [],
      "source": [
        ""
      ],
      "id": "6618f067"
    },
    {
      "cell_type": "markdown",
      "metadata": {
        "id": "e482c15c"
      },
      "source": [
        "**Exercise 05:** \n",
        "> **Obtenez la longueur et la largeur d'un rectangle à l'aide de l'invite. Calculer sa `superficie` et son `perimetre`.**"
      ],
      "id": "e482c15c"
    },
    {
      "cell_type": "code",
      "execution_count": null,
      "metadata": {
        "id": "286cec4c"
      },
      "outputs": [],
      "source": [
        ""
      ],
      "id": "286cec4c"
    },
    {
      "cell_type": "markdown",
      "metadata": {
        "id": "cf15844c"
      },
      "source": [
        "**Exercice 06:** \n",
        "> **Obtenez le rayon d'un cercle en utilisant l'invite. Calculez l'aire (aire = pi x r x r) et la circonférence (c = 2 x pi x r) où pi = 3,14.**"
      ],
      "id": "cf15844c"
    },
    {
      "cell_type": "code",
      "execution_count": null,
      "metadata": {
        "id": "ee0ee85e"
      },
      "outputs": [],
      "source": [
        "\n"
      ],
      "id": "ee0ee85e"
    },
    {
      "cell_type": "markdown",
      "metadata": {
        "id": "d9dec37a"
      },
      "source": [
        "**Exercice 07:**\n",
        "> **Calculez la pente, l'ordonnée à l'origine en x et l'ordonnée à l'origine en $y$ de $y = 2x -2$.**"
      ],
      "id": "d9dec37a"
    },
    {
      "cell_type": "code",
      "execution_count": null,
      "metadata": {
        "id": "203e449c"
      },
      "outputs": [],
      "source": [
        ""
      ],
      "id": "203e449c"
    },
    {
      "cell_type": "markdown",
      "metadata": {
        "id": "2f74d685"
      },
      "source": [
        "**Exercice 08:** \n",
        "> **Rédigez un script qui demande à l'utilisateur d'entrer les heures et le taux horaire. Calculez la rémunération de la personne ?**"
      ],
      "id": "2f74d685"
    },
    {
      "cell_type": "code",
      "execution_count": null,
      "metadata": {
        "id": "7cff5a0a"
      },
      "outputs": [],
      "source": [
        ""
      ],
      "id": "7cff5a0a"
    },
    {
      "cell_type": "markdown",
      "metadata": {
        "id": "6ddd662c"
      },
      "source": [
        "**Exercice 09:** \n",
        "> **Écrivez un script qui demande à l'utilisateur d'entrer le nombre d'années. Calculez le nombre de secondes qu'une personne peut vivre. Supposons qu'une personne puisse vivre cent ans.**"
      ],
      "id": "6ddd662c"
    },
    {
      "cell_type": "code",
      "execution_count": null,
      "metadata": {
        "id": "44c2a63c"
      },
      "outputs": [],
      "source": [
        ""
      ],
      "id": "44c2a63c"
    },
    {
      "cell_type": "markdown",
      "metadata": {
        "id": "9b253387"
      },
      "source": [
        "**Exercice 10:** \n",
        "> **Écrivez un script Python qui affiche le tableau suivant**\n",
        "\n",
        "    1 1 1 1 1\n",
        "    \n",
        "    2 1 2 4 8\n",
        "    \n",
        "    3 1 3 9 27\n",
        "    \n",
        "    4 1 4 16 64\n",
        "    \n",
        "    5 1 5 25 125"
      ],
      "id": "9b253387"
    },
    {
      "cell_type": "code",
      "source": [
        ""
      ],
      "metadata": {
        "id": "aa2dae84"
      },
      "id": "aa2dae84",
      "execution_count": null,
      "outputs": []
    },
    {
      "cell_type": "markdown",
      "metadata": {
        "id": "953e7d8c"
      },
      "source": [
        "**Exercise 11:** \n",
        ">**Attribuez aux variables `temps` et `distance` les valeurs $6.892$ et $19.7$. Calculer et afficher la valeur de la vitesse. Améliorer l'affichage en imposant un chiffre après la virgule.**"
      ],
      "id": "953e7d8c"
    },
    {
      "cell_type": "code",
      "execution_count": null,
      "metadata": {
        "id": "6d787289"
      },
      "outputs": [],
      "source": [
        ""
      ],
      "id": "6d787289"
    },
    {
      "cell_type": "markdown",
      "metadata": {
        "id": "2d0f1ff9"
      },
      "source": [
        "**Exercice 12:** \n",
        "> **Écrire un programme qui, à partir de la saisie d’un rayon et d’une hauteur, calcule levolume d’un cône droit.**"
      ],
      "id": "2d0f1ff9"
    },
    {
      "cell_type": "code",
      "execution_count": null,
      "metadata": {
        "id": "969f5f68"
      },
      "outputs": [],
      "source": [
        ""
      ],
      "id": "969f5f68"
    },
    {
      "cell_type": "markdown",
      "metadata": {
        "id": "e9b3ce2a"
      },
      "source": [
        "**Exercise 13:** \n",
        "> **L'utilisateur donne un entier positif et le programme annonce combien de fois de suite cet entier est divisible par 2.**"
      ],
      "id": "e9b3ce2a"
    },
    {
      "cell_type": "code",
      "execution_count": null,
      "metadata": {
        "id": "5c8fea9a"
      },
      "outputs": [],
      "source": [
        ""
      ],
      "id": "5c8fea9a"
    },
    {
      "cell_type": "markdown",
      "metadata": {
        "id": "0485aed6"
      },
      "source": [
        "**Exercise 14:** \n",
        ">**L'utilisateur donne un nombre entier entre 2 et 12, le programme donne le nombre de façons de le faire en lançant deux dés.**"
      ],
      "id": "0485aed6"
    },
    {
      "cell_type": "code",
      "execution_count": null,
      "metadata": {
        "id": "31f48a15"
      },
      "outputs": [],
      "source": [
        ""
      ],
      "id": "31f48a15"
    },
    {
      "cell_type": "markdown",
      "metadata": {
        "id": "cead0c8f"
      },
      "source": [
        "**Exercice 15:** \n",
        "> **Utilisez la fonction d'entrée intégrée `input()` pour obtenir le `_prénom_`, le `_nom_`, le `_pays_d_origine` et l'`_age_` d'un utilisateur et stockez la valeur dans les noms des variables correspondantes.**"
      ],
      "id": "cead0c8f"
    },
    {
      "cell_type": "code",
      "execution_count": null,
      "metadata": {
        "id": "0a2694a9"
      },
      "outputs": [],
      "source": [
        ""
      ],
      "id": "0a2694a9"
    },
    {
      "cell_type": "markdown",
      "metadata": {
        "id": "33240a56"
      },
      "source": [
        "**Exercice 16:** \n",
        "\n",
        "**Déclarer $5$ comme `num_one` et $4$ comme `num_two`**\n",
        "\n",
        "   1. Additionner `num_one` et `num_two` et affecter la valeur à une variable `totale`.\n",
        "   2. Soustraire `num_two` de `num_one` et affecter la valeur à une variable `diff`.\n",
        "   3. Multipliez le `num_one` et le `num_two` et attribuez la valeur à une variable `produit`.\n",
        "   4. Divisez le `num_one` par le `num_two` et attribuez la valeur à une variable `division`.\n",
        "   5. Calculez `num_one` à la puissance de `num_two` et attribuez la valeur à une variable `exp`."
      ],
      "id": "33240a56"
    },
    {
      "cell_type": "code",
      "execution_count": null,
      "metadata": {
        "id": "c2f3e814"
      },
      "outputs": [],
      "source": [
        ""
      ],
      "id": "c2f3e814"
    },
    {
      "cell_type": "markdown",
      "metadata": {
        "id": "80763237"
      },
      "source": [
        "<center> <b> <span style=\"color:orange;\"> 🎉 FÉLICITATIONS! 🎉 </span> </b></center>"
      ],
      "id": "80763237"
    }
  ],
  "metadata": {
    "colab": {
      "collapsed_sections": [],
      "name": "In2Py_TP_01.ipynb",
      "provenance": [],
      "include_colab_link": true
    },
    "kernelspec": {
      "display_name": "Python 3",
      "language": "python",
      "name": "python3"
    },
    "language_info": {
      "codemirror_mode": {
        "name": "ipython",
        "version": 3
      },
      "file_extension": ".py",
      "mimetype": "text/x-python",
      "name": "python",
      "nbconvert_exporter": "python",
      "pygments_lexer": "ipython3",
      "version": "3.8.10"
    }
  },
  "nbformat": 4,
  "nbformat_minor": 5
}