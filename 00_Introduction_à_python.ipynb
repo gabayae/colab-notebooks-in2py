{
  "cells": [
    {
      "cell_type": "markdown",
      "metadata": {
        "id": "view-in-github",
        "colab_type": "text"
      },
      "source": [
        "<a href=\"https://colab.research.google.com/github/gabayae/colab-notebooks-in2py/blob/main/00_Introduction_%C3%A0_python.ipynb\" target=\"_parent\"><img src=\"https://colab.research.google.com/assets/colab-badge.svg\" alt=\"Open In Colab\"/></a>"
      ]
    },
    {
      "cell_type": "markdown",
      "metadata": {
        "id": "_U_AqpnHPzsi"
      },
      "source": [
        "<div class=\"alert alert-block alert-info\" style=\"background-color: #301E40; border: 0px; -moz-border-radius: 10px; -webkit-border-radius: 10px;\">\n",
        "<br/><br/>\n",
        "<h3 style=\"font-size: 35px; color: white; align: center;\"><center>\n",
        "<img src=\"https://th.bing.com/th/id/OIP._sf83AYB5O_8l6pVD3EQkgAAAA?w=140&h=150&c=7&r=0&o=5&dpr=1.25&pid=1.7\n",
        "\" width=\"150px\" /><br/><br/>\n",
        "Introduction à Python  \n",
        " </center></h3>\n",
        "\n",
        "</div>\n"
      ]
    },
    {
      "cell_type": "markdown",
      "metadata": {
        "id": "u3ch_Bg_Pzsn"
      },
      "source": [
        "\n",
        "### <left> <b> <span style=\"color:brown;\"> Objectif: </span> </b></left>\n",
        "\n",
        "Ma préoccupation primordiale est d'arriver à susciter l'intérêt pour un sujet aussi ardu que la programmation d'un ordinateur. Ma démarche n'est pas suffisamment centrée sur l'algorithmique\n",
        "pure et dure mais cela représente de moins en mois une exigence pour l'apprentissage de la programmation moderne par objets. Je souhaite aussi avec ces notes ouvrir un maximum de portes. En effet, il me paraît\n",
        "important de montrer que la programmation d'un ordinateur est un vaste univers de concepts et de\n",
        "méthodes, dans lequel chacun peut trouver son domaine de prédilection. Je voudrais que chaque étudiant\n",
        "arrive à développer des compétences quelque peu différentes de celles des autres, propres à son inclinaison, qui lui permettent de se valoriser à ses propres yeux ainsi qu’à ceux de ses condisciples, et également d’apporter sa\n",
        "contribution spécifique lorsqu’on lui proposera de collaborer à des travaux d’envergure. Par ailleurs, l'accent est mis sur la manipulation de différents types de structures de données car ceux-ci sont la colonne vertébrale de tout développement logiciel. L’objectif ultime sera pour chaque étudiant de réaliser un projet de programmation original d'une  certaine importance. Il existe un très grand nombre de langages de programmation, chacun avec ses avantages et ses inconvénients. Il faut bien en choisir un. Pour mes propres débuts dans l’étude de la programmation, j'ai moi même utilisé Python qui est un langage très moderne et à la popularité grandissante.\n",
        "****\n",
        "\n",
        "\n",
        "\n",
        "### <left> <b> <span style=\"color:brown;\">Instructeur : </span> </b></left>[Yaé Ulrich Gaba](https://github.com/gabayae)\n",
        "\n",
        "\n",
        "> **Résumé:** Présentation de [Python](https://www.python.org/), exécution de commandes interactives ou de scripts avec un IDE, utilisation d'un calepin; les types et structures élémentaires de données, les structures de contrôle, les fonctions, classes et modules. Ces thèmes seront abordés plus en details dans d'autres calepins.\n",
        "\n",
        "\n",
        "\n",
        "\n",
        "****\n",
        "<left> <b> <span style=\"color:green;\">Provenance principale du matériel: </span> </b></left> \n",
        " Le cours présenté ici provient de différentes sources, principalement:\n",
        " \n",
        "   - Le support de cours Introduction to Programming using Python [IPuP](https://github.com/gabayae/scientific-computing/edit/master/README.md), développé en 2016, par:\n",
        "      - Yaé Ulrich Gaba; \n",
        "      - Jeff Sanders; \n",
        "      - Jordan Masakuna;\n",
        "      à l'Institut Africain des Sciences Mathématiques- [AIMS](http://aims.ac.za/), centre de l'Afrique du Sud.\n",
        "   - Data Science with Python: Algorithm, Statistics, DataViz, DataMining and Machine-Learning, Moussa Keita February 2017.\n",
        "   - Les cours de [Software Carpentry](http://software-carpentry.org/4_0/python/).\n",
        "\n",
        "\n",
        "****\n",
        "\n",
        "\n",
        "\n",
        "\n",
        "\n",
        "Une première version de ce cours est déjà disponible en Anglais, vous pourrez la voir sur ma [page github](https://github.com/gabayae).\n"
      ]
    },
    {
      "cell_type": "markdown",
      "metadata": {
        "id": "z818sdKLPzsp"
      },
      "source": [
        "## 0. Introduction"
      ]
    },
    {
      "cell_type": "markdown",
      "metadata": {
        "id": "siqFdkQsPzsq"
      },
      "source": [
        "### 0.0. Pourquoi Python ?\n",
        "\n",
        "Le langage de programmation Python est une très bonne option tant pour ceux qui débutent en programmation que pour ceux qui s'y connaissent déjà beaucoup plus. C'est un langage de très haut niveau dont la syntaxe encourage à écrire du code clair et de qualité. De plus l'apprentissage de Python est facilité par l’existence d’une interface interactive et en particlier par l'utilisation des `calepin Jupyter`. Cela dit, son intérêt ne se limite pas à l'apprentissage de la programmation ou de l’algorithmique; sa popularité et son utilisation vont bien au-delà du cadre académique, en témoigne sa popularité croissante. Il a été choisi par des acteurs majeurs comme `Google`, `YouTube`,\n",
        "la `NASA`.\n",
        "\n",
        "\n",
        "\n",
        "Python est un langage de programmation généraliste (i.e. poursuivant plusieurs buts et applicable à plusiers domaines des sciences informatiques). Il est un langage interprété (c'est-à-dire que chaque ligne\n",
        "de code est lue puis interprétée afin d’être exécutée) au lieu d’être un langage compilé. L'un des plus gros atouts de Python est sa portabilité, c'est-à-dire sa capacité à fonctionner sur différentes plates-formes (Mac OS X,\n",
        "Unix, Windows, etc). Il fonctionne dans une approche orientée-objet et offre un environnement complet de développement comprenant, en dehors d'un interpréteur, un ensemble de bibliothèques. Il comporte de nombreux modules qui\n",
        "offrent une flexibilité quant à l'usage qu'on veut en faire : écriture d'applications Web (Django), calculs scientifiques, traitement de données, traitement de texte, analyse de données, gestion réseau (librairie socket), accès\n",
        "aux bases de données relationnelles, etc. Cette grande flexibilité ainsi que cette capacité à s’intégrer à\n",
        "différents environnements techniques en font un langage de premier choix pour les analyses du Big Data.\n",
        "\n",
        "\n",
        "Les principales caractéristiques du langage Python:\n",
        "\n",
        " - **Syntaxe simple** et __lisible__ : langage pédagogique et facile à apprendre et à utiliser;\n",
        " - __Langage interprété__ : utilisation interactive ou script exécuté ligne à ligne, pas de processus de\n",
        "compilation;\n",
        " - __Haut niveau__ : typage dynamique, gestion active de la mémoire, pour une plus grande facilité\n",
        "d’emploi;\n",
        " - __Multi-paradigme__ : langage impératif et/ou orienté objet, selon les besoins et les capacités de\n",
        "chacun;\n",
        " - __Logiciel libre__ et __ouvert__, largement répandu (multi-plateforme) et utilisé (forte communauté);\n",
        " - __Riche bibliothèque standard__ : Batteries included;\n",
        " - __Riche bibliothèque externe__ : de nombreuses bibliothèques de qualité, dans divers domaines (y\n",
        "compris scientifiques), sont déjà disponibles.\n",
        "\n",
        "Les différentes versions de Python (pour *Windows*, *Unix*, etc.), son  **tutoriel** original, son __manuel de référence__ , la  **documentation** des bibliothèques de fonctions, etc. sont disponibles en téléchargement\n",
        "gratuit depuis Internet, à partir du [site web officiel](http://www.python.org).\n",
        "\n",
        "\n",
        "\n",
        "\n",
        "\n",
        "L’objectif de ce cours est bien d'apprendre un *seul* langage de haut niveau, permettant tout aussi bien des analyses\n",
        "rapides dans la vie de tous les jours – quelques lignes de code en intéractif – que des programes plus\n",
        "complexes (projets plus volumineux, p.ex. de plus de 100000 lignes).\n",
        "\n",
        "\n",
        "\n",
        "\n",
        "\n",
        "### 0.1. Prérequis\n",
        "\n",
        "Ce calepin introduit le langage libre Python et décrit les premières commandes nécessaires à la prise en main du langage. Le contenu est accessible à la fois aux débutants et aux utilisateurs relativement expérimentés. Il est alors bien indiqué pour quelqu'un qui voudrait apprendre la programmation sous Python mais aussi contient l'essentiel de ce qu'il faut savoir afin de se familiariser à l'analyse de données. \n",
        "\n",
        "\n",
        "En vue d'une étude plus approfondie, il existe de très nombreuses ressources pédagogiques disponibles sur la toile. On pourrait citer le [tutoriel officiel](https://docs.python.org/3/tutorial/index.html) de Python 3.4., qui comporte d'abondantes informations pour ceux qui débutent avec Python. Il y a également le livre de [Sheppard (2014)](http://www.kevinsheppard.com/images/0/09/Python_introduction.pdf) qui présente une introduction à Python pour l'\\'Econométrie, la Statistique et l'Analyse de Données, et celui de [Mac Kinney (2013)](http://it-ebooks.info/book/1041/), principal auteur de la bibliothèque `pandas` que nous aborderons dans un calepin plus tard.\n",
        "\n",
        "\n",
        "\n",
        "\n",
        "En complément à ce chapitre de présentation des bases du langage Python, l'on pourra\n",
        "également consulter avec profit les cinq premières sections du [tutoriel officiel](http://docs.python.org/py3k/tutorial/) de Python.\n",
        "\n",
        "### 0.2. Installation\n",
        "\n",
        "Python et ses librairies peuvent être installés sur presque n'importe quel système d'exploitation à partir du [site officiel](https://www.python.org/downloads/). Nous citons ici les principales librairies scientifiques utiles pour le calcul scientifique et pour définir des structures de données et fonctions de calcul indispensables:\n",
        "\n",
        "- `ipython`: pour une utilisation interactive de Python, \n",
        "- `numpy`: pour utiliser vecteurs et tableaux, \n",
        "- `scipy`: intègre les principaux algorithmes numériques, \n",
        "- `matplotlib`: pour les graphes, \n",
        "- `pandas`: structure de données et feuilles de calcul, \n",
        "- `patsy`: formules statistiques,\n",
        "- `statsmodels`: modélisation statistique,\n",
        "- `seaborn`: visualisation de données,\n",
        "- `scikit-learn`: algorithmes d'apprentissage statistique,\n",
        "- `simpy`: pour le calcul symbolique.\n",
        "\n",
        "\n",
        "### 0.3.  Python 2.7 vs. 3 (ou plus spécifiquement Python 2.7 vs 3.5) \n",
        "\n",
        "Je dis ici quelques mots sur les différences entre Python 2.x et Python 3.x. Bien que cela ne présente pas un enjeu majeur pour ce cours, je pense qu'il serait bien que je le mentionne.\n",
        "Python se décline en un certain nombre de saveurs qui peuvent convenir à l'économétrie, aux statistiques et à l'analyse numérique. Python 2.7 est la version finale de la ligne Python 2.x - tous les futurs travaux de développement se concentreront sur Python 3. La plupart des différences entre Python 2.7 et 3 ne sont pas importantes pour l'utilisation de Python en économétrie, statistiques\n",
        "et analyse numérique, i.e. en calcul scientifique généralement.\n",
        "\n",
        "\n",
        "Je mentionne ici quatre différences notables qui permettront d'utiliser 2.7 et 3 de manière interchangeable. Notez que ces différences sont relativement importantes dans des programmes Python autonomes.\n",
        "\n",
        "1. <left> <b> <span style=\"color:brown;\"> print </span> </b></left>\n",
        "\n",
        "`print()` est une fonction utilisée pour afficher le test dans la console lors de l'exécution de programmes. En Python 2.7, l'impression est un mot-clé qui se comporte différemment des autres fonctions. En Python 3, l'impression se comporte comme la plupart des fonctions. L'utilisation standard dans Python 2.7 est\n",
        "\n",
        "```python\n",
        "   print \"Chaînes de caractères à afficher.\"\n",
        "\n",
        "```\n",
        "\n",
        "tandis qu'en Python 3, l'utilisation standard est\n",
        "\n",
        "```python\n",
        "   print (\"Chaînes de caractères à afficher.\")\n",
        "```\n",
        "\n",
        "qui ressemble à l'appel d'une fonction standard. Python 2.7 contient une version de l'impression Python 3, qui\n",
        "peut être utilisé dans n'importe quel programme en incluant\n",
        "\n",
        "```python\n",
        "   from __future__ import print_function\n",
        "```\n",
        "en haut du programme.\n",
        "\n",
        "\n",
        "2. <left> <b> <span style=\"color:brown;\">division </span> </b></left>\n",
        "\n",
        "Python 3 change la façon dont les entiers sont divisés. En Python 2.7, le rapport de deux entiers était toujours un\n",
        "entier, et donc les résultats sont tronqués vers 0 si le résultat était fractionnaire. Par exemple, en Python 2.7, 9/5\n",
        "est 1. Python 3 convertit gracieusement le résultat en un nombre à virgule flottante, et donc dans Python 3, 9/5 est 1,8. Quand\n",
        "on travaille avec des données numériques, la conversion automatique des rapports évite certaines erreurs rares. Python 2.7 peut utiliser\n",
        "le comportement de Python 3 en incluant\n",
        "\n",
        "```python\n",
        "   from __future__ import division\n",
        "```\n",
        "en haut du programme.\n",
        "\n",
        "3. <left> <b> <span style=\"color:brown;\">range</span> </b></left>  et <left> <b> <span style=\"color:brown;\">xrange </span> </b></left>\n",
        "\n",
        "\n",
        "Il est souvent utile de générer une séquence de nombres à utiliser lors de l'itération sur certaines données. En Python\n",
        "2.7, la meilleure pratique consiste à utiliser le mot clé `xrange` pour ce faire, tandis qu'en Python 3, ce mot clé a été plage renommée `range`. \n",
        "\n",
        "\n",
        "4. <left> <b> <span style=\"color:brown;\"> Chaînes Unicode</span> </b></left>\n",
        "\n",
        "En Python 3, les chaînes de texte sont Unicode par défaut. Dans Python 2, les chaînes sont stockées en ASCII par défaut - vous devez ajouter un «u» si vous souhaitez stocker des chaînes en Unicode dans Python 2.x. Ceci est important car Unicode est plus polyvalent que ASCII. Les chaînes Unicode peuvent stocker des lettres en langue étrangère, des lettres et des chiffres romains, des symboles, des emojis, etc., vous offrant plus de choix. En pratique, il est peu probable que cela ait un impact sur les codes numériques\n",
        "cécrits en Python sauf éventuellement lors de la lecture ou de l'écriture de données. Si vous travaillez dans une langue\n",
        "mesure où les caractères en dehors du jeu de 128 caractères standard mais limité à ceux qui sont couramment rencontrés,\n",
        "il peut être utile d'utiliser:\n",
        "\n",
        "```python\n",
        "   from __future__ import unicode_literals\n",
        "\n",
        "```\n",
        "\n",
        "pour aider à la compatibilité future lors du passage à Python 3.\n",
        "\n",
        "\n",
        "\n",
        "Vous pouvez en lire plus sur ces différences et d'autres détails plus techniques sur ces pages:\n",
        "\n",
        "  - [What Should I Learn as a Beginner: Python 2 or Python 3?](https://learntocodewith.me/programming/python/python-2-vs-python-3/)\n",
        "  - [The key differences between Python 2.7.x and Python 3.x with examples](https://sebastianraschka.com/Articles/2014_python_2_3_key_diff.html)\n",
        "  - [Python 2 vs Python 3: Key Differences](https://www.guru99.com/python-2-vs-python-3.html)\n",
        "\n",
        "  - [La migration de Python 2.X à Python 3.X](https://blog.invivoo.com/la-migration-de-python-2-x-a-python-3-x/)\n",
        "  \n",
        "  - [Différences entres python 2 et python 3](https://python.doctor/page-syntaxe-differente-python2-python3-python-differences)\n",
        "  - [Table de comparaison Python 2 vs 3](https://waytolearnx.com/2018/12/differences-entres-python-2-et-python-3.html)\n",
        "\n",
        "\n",
        "## 1. Utilisation de Python\n",
        "\n",
        "Python exécute des programmes ou scripts. Ce langage s'exécute également à l'aide d'un interprète de commande (`IDLE`) ou {`IPython`) de manière interactive.  En situation pédagogique, c'est l'utilisation et la réalisation d'un *notebook Ipython* (calepin) ou plutôt maintenant *Jupyter* qui est privilégiée à partir d'un simple navigateur (éviter *internet explorer*).\n",
        "\n",
        "### Les environements Python.\n",
        "\n",
        "Vous pouvez compiler Python de plusieurs manières, en créant des scipts, en utilisant l'interprèteur Python. Pour cela, il y a une gamme d'environements de developpements integres (IDE en Anglais) dont vous disposez:\n",
        "\n",
        "`PyCharm`, `Spyder`, `PyDev sous Eclipse`, `Rodeo`, `Sublime`, `Liclipse`, `Ninja`, `Komodo`. \n",
        "\n",
        "Vous pouvez aussi tourner Python en utilisant le `calepin Jupyter`. Ce qui vous permet de sauvegarder vos commandes, de faire un peu plus que du simple developpement et c'est cette voie que nous allons emprunter.\n",
        "\n",
        "\n",
        "\n",
        "\n",
        "###  Calepin *Jupyter*\n",
        "\n",
        "Les commandes sont regroupées dans des cellules suivies de leur résultat après exécution. Ces résultats et commentaires sont stockés dans un fichier spécifique `.ipynb` et sauvegardés. Les commandes LaTeX sont acceptées pour intégrer des formules, la mise en page est assurée par des balises HTML ou [*Markdown*](http://fr.wikipedia.org/wiki/Markdown). \n",
        "\n",
        "La commande de sauvegarde permet également d'extraire les seules commandes Python dans un fichier d'extension `.py`. C'est une façon simple et efficace de conserver tout l'historique d'une analyse pour en faire une présentation ou créer un tutoriel. Le calepin peut être en effet chargé sous un autre format: page `.html`, fichier `.pdf` ou diaporama. Il se peut que l'on ait besoin d'installer des extensions supplémetaires. Vous trouverez [ici](https://pypi.org/project/jupyter-contrib-nbextensions/) une liste d'extensions disponibles.\n",
        "\n",
        "\n",
        "En lisant le projet [Jupyter](http://jupyter.org/), on voit qu'il propose cet environnement de calepin pour la plupart des langages de programmation(Pyhton, Julia, ...). Il devient un outil indispensable pour assurer simplement la *reproductibilité* des analyses. \n",
        "\n",
        "\n",
        "L'ouverture d'un navigateur sur un calepin (Ipython ou Jupyter) est obtenu, selon l'installation,  à partir des menus ou en exécutant:            \n",
        "                              `jupyter notebook`."
      ]
    },
    {
      "cell_type": "markdown",
      "metadata": {
        "id": "qjQv6CgrPzsu"
      },
      "source": [
        "### Quelques consignes pour une bonne utilisation du calepin\n",
        "\n",
        "Bien que l'apprentissage de la navigation dans un calepin Jupyter puisse faire l'objet d'un tutoriel, l'utilisateur se retrouvera facilement, vu que les onglets qui apparaissent en haut de page s'expliquent d'eux-mêmes. Des tutoriels peuvent être lus sur le site du projet [Jupyter](http://jupyter.org/). Cependant, nous donnons quelques petites indications:\n",
        "\n",
        "Une fois le calepin ouvert, \n",
        "- Entrer des commandes Python dans une cellule;\n",
        "- Cliquer sur le bouton d'exécution de la cellule (ou faites `Shift + Enter` ou `Ctrl + Enter`),\n",
        "   - alors que `Shift + Enter` exécute la cellule courante et déplace le curseur dans la cellule suivante,\n",
        "   - `Ctrl + Enter` exécute la cellule courante et y conserve le curseur;\n",
        "- Ajouter une ou des cellules de commentaires et balises HTML ou [Markdown](http://fr.wikipedia.org/wiki/Markdown).\n",
        "\n",
        "Itérer l'ajout de cellules. Une fois l'exécution terminée:\n",
        "- Sauver le calepin `.ipynb`.\n",
        "- Charger éventuellement une version `.html` pour une page web.\n",
        "- Charger le fichier `.py` regroupant les commandes python pour une version opérationnelle."
      ]
    },
    {
      "cell_type": "markdown",
      "metadata": {
        "id": "Zj2s6Pw2Pzsw"
      },
      "source": [
        "## Python en *concret*\n",
        "\n",
        "Nous pouvons résumer le langage Python par ce qui suit:\n",
        "    \n",
        " `variables` ------------> `type` ------------> `opérations admissibles`.\n",
        "\n",
        "Comme tout langage de programmation, Python n'échappe pas au principe de `variable`. Nos quantités seront sauvegardéess des variables, qui ont un `type` et pour lesquelles seulement certaines `opérations` sont possibles. \n",
        "\n",
        "`Python possède une syntaxe claire, concise et simple, et est doté de types standards très puissants.`"
      ]
    },
    {
      "cell_type": "markdown",
      "metadata": {
        "id": "J6WxiXnTPzsw"
      },
      "source": [
        "### Executer des fichiers\n",
        "\n",
        "Il est possible, depuis le calepin Jupyter, d'exécuter des scipts (extension `.py`), avec la commande magique `%run`. Inutile de signaler que le script que l'on veut exécuter doit être sauvegardé dans le même répertoire que le calepin courant."
      ]
    },
    {
      "cell_type": "code",
      "execution_count": null,
      "metadata": {
        "id": "-OXaFmSoPzsx"
      },
      "outputs": [],
      "source": [
        "%run hello.py"
      ]
    },
    {
      "cell_type": "markdown",
      "metadata": {
        "id": "wEXB8nquPzsy"
      },
      "source": [
        "### Avoir de l'aide\n",
        "\n",
        "Savoir se retrouver se fait au moyen de l'aide. "
      ]
    },
    {
      "cell_type": "code",
      "execution_count": null,
      "metadata": {
        "id": "ptD3QzL_Pzsz"
      },
      "outputs": [],
      "source": [
        "# Avoir de l'aide sur le type int.\n",
        "help(int)"
      ]
    },
    {
      "cell_type": "code",
      "execution_count": null,
      "metadata": {
        "id": "cnOUs9pYPzsz"
      },
      "outputs": [],
      "source": [
        "# Version simplifiée de l'aide.\n",
        "int?"
      ]
    },
    {
      "cell_type": "markdown",
      "metadata": {
        "id": "i4pRZigwPzs0"
      },
      "source": [
        "### Réinitiliser Jupyter\n",
        "\n",
        "Le mot magique `%reset` permet de rèinitialiser le calepin. Il détruit toutes les variables existant dans la session courante. "
      ]
    },
    {
      "cell_type": "code",
      "execution_count": null,
      "metadata": {
        "id": "hyIzP2O7Pzs0"
      },
      "outputs": [],
      "source": [
        "mon_char = \"Nous faisons le necessaire.\" \n",
        "print(mon_char)"
      ]
    },
    {
      "cell_type": "code",
      "execution_count": null,
      "metadata": {
        "id": "bWXyAGk7Pzs0"
      },
      "outputs": [],
      "source": [
        "%reset"
      ]
    },
    {
      "cell_type": "code",
      "execution_count": null,
      "metadata": {
        "id": "CIBJyI5HPzs1"
      },
      "outputs": [],
      "source": [
        "print(mon_char)"
      ]
    },
    {
      "cell_type": "markdown",
      "metadata": {
        "id": "Nt3V2X-qPzs1"
      },
      "source": [
        "## 2. Types de données"
      ]
    },
    {
      "cell_type": "markdown",
      "metadata": {
        "id": "30_wRNdHPzs1"
      },
      "source": [
        "### 2.0 Scalaires et chaînes\n",
        "La déclaration des variables est implicite ({integer, float, boolean, string)."
      ]
    },
    {
      "cell_type": "code",
      "execution_count": null,
      "metadata": {
        "id": "0G5lNj3MPzs1"
      },
      "outputs": [],
      "source": [
        "a = 4  # est un entier\n",
        "b = 2. # est un flottant\n",
        "\n",
        "# Attention:\n",
        "a/2  # le résultat 1.5 en Python 3.4 \n",
        "     # mais 1 en 2.7"
      ]
    },
    {
      "cell_type": "markdown",
      "metadata": {
        "id": "rh5kIq-FPzs2"
      },
      "source": [
        "Opérateurs de comparaison : `==, >, <, !=` de résultat booléen. Il retourne `True` ou `False`"
      ]
    },
    {
      "cell_type": "code",
      "execution_count": null,
      "metadata": {
        "id": "IYAvPY93Pzs2"
      },
      "outputs": [],
      "source": [
        "# Comparaison\n",
        "a == b  "
      ]
    },
    {
      "cell_type": "code",
      "execution_count": null,
      "metadata": {
        "id": "-BH8QjgcPzs2"
      },
      "outputs": [],
      "source": [
        "#affichage et type des variables\n",
        "type(a)"
      ]
    },
    {
      "cell_type": "code",
      "execution_count": null,
      "metadata": {
        "id": "Qg-aBNmEPzs2"
      },
      "outputs": [],
      "source": [
        "# Chaîne de caractère\n",
        "a = 'bonjour '\n",
        "b = 'tout le '\n",
        "c = 'monde'\n",
        "d = 'la famille'\n",
        "a + b + c"
      ]
    },
    {
      "cell_type": "code",
      "execution_count": null,
      "metadata": {
        "id": "kKXhkh0DPzs3"
      },
      "outputs": [],
      "source": [
        "a + d"
      ]
    },
    {
      "cell_type": "markdown",
      "metadata": {
        "id": "4NNy-jAjPzs3"
      },
      "source": [
        "Attention à l'encodage des caractères. Ce n'est pas le même en python 2 (ascii) et python 3 (utf-8). Ce n'est pas fait dans ces exemples élémentaires mais il est vivement recommander de gérer systématiquement des textes complexes avec caractères spéciaux (accents, guillements...) en utf-8"
      ]
    },
    {
      "cell_type": "code",
      "execution_count": null,
      "metadata": {
        "id": "xJW-KPgQPzs3"
      },
      "outputs": [],
      "source": [
        "a = u'bonjour' # encodage utf-8\n",
        "type(a)"
      ]
    },
    {
      "cell_type": "code",
      "execution_count": null,
      "metadata": {
        "id": "d6w8Jph-Pzs3"
      },
      "outputs": [],
      "source": [
        "a = 'bonjour'  # encodage ascii\n",
        "type(a)"
      ]
    },
    {
      "cell_type": "markdown",
      "metadata": {
        "id": "xtO-K4DJPzs4"
      },
      "source": [
        "### 2.1 Structures de base"
      ]
    },
    {
      "cell_type": "markdown",
      "metadata": {
        "id": "k0DmncZePzs4"
      },
      "source": [
        "#### Listes\n",
        "Les listes permettent des combinaisons de types. \n",
        "**Attention**, le premier élément d'une liste ou d'un tableau est indicé par **0**, pas par 1."
      ]
    },
    {
      "cell_type": "code",
      "execution_count": null,
      "metadata": {
        "id": "Ob4ewrX6Pzs4"
      },
      "outputs": [],
      "source": [
        "# initialisation de listes\n",
        "liste_A = [1,34,52,'Slt']\n",
        "liste_B = [0,3,209,4025,554,6,1]\n",
        "liste_C = [0,53,562,'rdv',[17,\"l\",298,43]]  "
      ]
    },
    {
      "cell_type": "code",
      "execution_count": null,
      "metadata": {
        "id": "KR8uN6wlPzs4"
      },
      "outputs": [],
      "source": [
        "# Elément d'une liste \n",
        "liste_A[1]"
      ]
    },
    {
      "cell_type": "code",
      "execution_count": null,
      "metadata": {
        "id": "-XgwjgWxPzs4"
      },
      "outputs": [],
      "source": [
        "liste_C[-1] #  dernier élément"
      ]
    },
    {
      "cell_type": "code",
      "execution_count": null,
      "metadata": {
        "id": "0CsMU8GnPzs4"
      },
      "outputs": [],
      "source": [
        "liste_C[3] = 45 # Modiifier une entree de la liste\n",
        "liste_C"
      ]
    },
    {
      "cell_type": "code",
      "execution_count": null,
      "metadata": {
        "id": "B6jbZg1VPzs5"
      },
      "outputs": [],
      "source": [
        "#Vu que list_C[-1] est aussi une liste, pour avoir acces a ces elements, on fera par example\n",
        "liste_C[-1][0]"
      ]
    },
    {
      "cell_type": "code",
      "execution_count": null,
      "metadata": {
        "id": "O_PLa-LkPzs5"
      },
      "outputs": [],
      "source": [
        "liste_B[0:2] #  Sous-liste, parcours la liste_B aux indices 0 et 1."
      ]
    },
    {
      "cell_type": "code",
      "execution_count": null,
      "metadata": {
        "id": "QAIuHVvZPzs5"
      },
      "outputs": [],
      "source": [
        "liste_B[0:5:2] # début:fin:pas"
      ]
    },
    {
      "cell_type": "code",
      "execution_count": null,
      "metadata": {
        "id": "VrmUAPXBPzs5"
      },
      "outputs": [],
      "source": [
        "liste_B[::-1]# Comprendre ce qui se passe ici"
      ]
    },
    {
      "cell_type": "code",
      "execution_count": null,
      "metadata": {
        "id": "jLvG56dxPzs5"
      },
      "outputs": [],
      "source": [
        "# Fonctions de listes\n",
        "List = [333,276,4827,187,984]\n",
        "List.sort() \n",
        "print(List)"
      ]
    },
    {
      "cell_type": "code",
      "execution_count": null,
      "metadata": {
        "id": "ETTeGTNOPzs6"
      },
      "outputs": [],
      "source": [
        "List.append('hi') # Ajoute une entree a la fin\n",
        "print(List)"
      ]
    },
    {
      "cell_type": "code",
      "execution_count": null,
      "metadata": {
        "id": "EcusVpkfPzs6"
      },
      "outputs": [],
      "source": [
        "List.count(3) # Compte le nombre de fois ou l'entree \"3\" apparait"
      ]
    },
    {
      "cell_type": "code",
      "execution_count": null,
      "metadata": {
        "id": "T_Nag2SzPzs6"
      },
      "outputs": [],
      "source": [
        "List.extend([7,8,9])\n",
        "print(List)"
      ]
    },
    {
      "cell_type": "code",
      "execution_count": null,
      "metadata": {
        "id": "hnBOU4_jPzs6"
      },
      "outputs": [],
      "source": [
        "List.append([10,11,12])\n",
        "print(List)"
      ]
    },
    {
      "cell_type": "markdown",
      "metadata": {
        "id": "qa8vgBU9Pzs6"
      },
      "source": [
        "Observez la difference entre les deux methodes `.append()` et `.extend()`."
      ]
    },
    {
      "cell_type": "markdown",
      "metadata": {
        "id": "R20ixcQ_Pzs6"
      },
      "source": [
        "#### Tuple\n",
        "Un tuple est similaire à une liste mais ne peut être modifié, il est défini par des parenthèses."
      ]
    },
    {
      "cell_type": "code",
      "execution_count": null,
      "metadata": {
        "id": "1RJn4Q1MPzs7"
      },
      "outputs": [],
      "source": [
        "MyTuple = (2020,34,42,'h')\n",
        "MyTuple[1]"
      ]
    },
    {
      "cell_type": "code",
      "execution_count": null,
      "metadata": {
        "id": "RSD-A_AmPzs7"
      },
      "outputs": [],
      "source": [
        "MyTuple[1] = 10 # TypeError: \"tuple\" object\n",
        "# Vous ne pouvez modifier une entree dans un t-uplet, contrairement aux listes"
      ]
    },
    {
      "cell_type": "markdown",
      "metadata": {
        "id": "wJiCOK3IPzs7"
      },
      "source": [
        "#### Dictionnaire\n",
        "Un dictionnaire est similaire à une liste mais chaque entrée est assignée par une clé / un nom, il est défini avec des accolades. Cet objet est utilisé pour la construction de l'index des colonnes (variables) du type *DataFrame* de la librairie `pandas`."
      ]
    },
    {
      "cell_type": "code",
      "execution_count": null,
      "metadata": {
        "id": "FndvPNtbPzs7"
      },
      "outputs": [],
      "source": [
        "mois = {'Jan':31 , 'Fev': 29, 'Mar':31, 'Avr':30}\n",
        "mois['Avr'] "
      ]
    },
    {
      "cell_type": "markdown",
      "metadata": {
        "id": "6vVC7OzsPzs7"
      },
      "source": [
        "Les methodes `.values()`, `.keys()` et `.items()` sont tres utiles pour un dictionnaire."
      ]
    },
    {
      "cell_type": "code",
      "execution_count": null,
      "metadata": {
        "id": "XlxxBtq3Pzs7"
      },
      "outputs": [],
      "source": [
        "mois.values()"
      ]
    },
    {
      "cell_type": "code",
      "execution_count": null,
      "metadata": {
        "id": "e-KzFCk-Pzs7"
      },
      "outputs": [],
      "source": [
        "mois.keys()"
      ]
    },
    {
      "cell_type": "code",
      "execution_count": null,
      "metadata": {
        "id": "AS8pHanLPzs8"
      },
      "outputs": [],
      "source": [
        "mois.items()"
      ]
    },
    {
      "cell_type": "markdown",
      "metadata": {
        "id": "BHCzTShWPzs8"
      },
      "source": [
        "#### Créer un dataframe avec pandas"
      ]
    },
    {
      "cell_type": "code",
      "execution_count": null,
      "metadata": {
        "id": "APXmteVvPzs8"
      },
      "outputs": [],
      "source": [
        "import pandas as pd # Appel de la librairie pandas avec un alias \"pd\"\n",
        "# Utilisation des listes et dictionaires."
      ]
    },
    {
      "cell_type": "code",
      "execution_count": null,
      "metadata": {
        "id": "gjmSjvC6Pzs8"
      },
      "outputs": [],
      "source": [
        "# le genre et le nombre d'heures passees devant la TV.\n",
        "# m = masculin; f= feminin\n",
        "data = pd.DataFrame({\n",
        "    'Genre': ['f', 'f', 'm', 'f', 'm', 'm', 'f', 'm', 'f', 'f'],\n",
        "    'TV': [3.4, 3.5, 2.6, 4.7, 4.1, 4.0, 5.1, 4.0, 3.7, 2.1]})\n",
        "data"
      ]
    },
    {
      "cell_type": "markdown",
      "metadata": {
        "id": "UJm5AgrFPzs8"
      },
      "source": [
        "## 3. Syntaxe de Python"
      ]
    },
    {
      "cell_type": "markdown",
      "metadata": {
        "id": "GGE_UwgMPzs8"
      },
      "source": [
        "### 3.0 Structures de contrôle élémentaires\n",
        "Un bloc de commandes ou de codes est défini par *deux points suivis d'une indentation fixe*.  Cela oblige à l'écriture de codes faciles à lire mais à être très attentif sur la gestion des indentations car la fin d'indentation signifie la fin d'un bloc de commandes."
      ]
    },
    {
      "cell_type": "markdown",
      "metadata": {
        "id": "piUG1_hxPzs8"
      },
      "source": [
        "#### Structure conditionnelle"
      ]
    },
    {
      "cell_type": "code",
      "execution_count": null,
      "metadata": {
        "id": "AAwZHVCiPzs9"
      },
      "outputs": [],
      "source": [
        "# si alors sinon\n",
        "a = -23\n",
        "if a > 0:\n",
        "    b = 0\n",
        "    print(b)\n",
        "else:\n",
        "    b = -1\n",
        "print(b)"
      ]
    },
    {
      "cell_type": "markdown",
      "metadata": {
        "id": "Ojick4P0Pzs9"
      },
      "source": [
        "#### Structure itérative"
      ]
    },
    {
      "cell_type": "code",
      "execution_count": null,
      "metadata": {
        "id": "dW5dMM5HPzs9"
      },
      "outputs": [],
      "source": [
        "for i in range(4):\n",
        "    print(i)"
      ]
    },
    {
      "cell_type": "code",
      "execution_count": null,
      "metadata": {
        "id": "lFUCmAP-Pzs9"
      },
      "outputs": [],
      "source": [
        "for i in range(1,8,2):\n",
        "    print(i)"
      ]
    },
    {
      "cell_type": "markdown",
      "metadata": {
        "id": "t8vbeGx4Pzs9"
      },
      "source": [
        "### 3.1 Fonctions"
      ]
    },
    {
      "cell_type": "code",
      "execution_count": null,
      "metadata": {
        "id": "sq0o-8chPzs9"
      },
      "outputs": [],
      "source": [
        "# Définition d'une fonction\n",
        "def pythagorus(x,y):\n",
        "    \"\"\" Calcule l'hypotenuse d'un triangle \"\"\"\n",
        "    r = pow(x**2+y**2,0.5)\n",
        "    return x,y,r\n",
        "pythagorus(5,6)"
      ]
    },
    {
      "cell_type": "code",
      "execution_count": null,
      "metadata": {
        "id": "_U9Tv7dAPzs9"
      },
      "outputs": [],
      "source": [
        "# exemple d'appel\n",
        "pythagorus(x=5,y=7)"
      ]
    },
    {
      "cell_type": "code",
      "execution_count": null,
      "metadata": {
        "id": "CE6jERfPPzs9"
      },
      "outputs": [],
      "source": [
        "# aide intégrée\n",
        "help(pythagorus)"
      ]
    },
    {
      "cell_type": "code",
      "execution_count": null,
      "metadata": {
        "id": "5xABrO1TPzs-"
      },
      "outputs": [],
      "source": [
        "pythagorus.__doc__"
      ]
    },
    {
      "cell_type": "markdown",
      "metadata": {
        "id": "4KUFX0O8Pzs-"
      },
      "source": [
        "### 3.3 Modules et librairies\n",
        "#### Modules \n",
        "Un module contient plusieurs fonctions et commandes qui sont regroupées dans un fichier d'extension `.py`. Il est appelé par la commande `import`. "
      ]
    },
    {
      "cell_type": "markdown",
      "metadata": {
        "id": "myGi-Sa_Pzs-"
      },
      "source": [
        "Commencer par définir un module dans un fichier texte contenant les commandes suivantes.\n",
        "\n",
        "```python\n",
        "def DitBonjour():\n",
        "    print(\"Bonjour\")\n",
        "def DivPar2(x):\n",
        "    return x/2\n",
        "```\n",
        "\n",
        "Sauver le fichier avec pour nom `testM.py` dans le répertoire courant.\n",
        "\n",
        "Il est possible d'importer toutes les fonctions en une seule commande `import`. \n"
      ]
    },
    {
      "cell_type": "code",
      "execution_count": null,
      "metadata": {
        "id": "YNjJWDVtPzs-"
      },
      "outputs": [],
      "source": [
        "import testM # importer le module\n",
        "testM.DitBonjour()"
      ]
    },
    {
      "cell_type": "code",
      "execution_count": null,
      "metadata": {
        "id": "GFcTY6VAPzs-"
      },
      "outputs": [],
      "source": [
        "testM.DivPar2(7)"
      ]
    },
    {
      "cell_type": "code",
      "execution_count": null,
      "metadata": {
        "id": "EcT68oajPzs-"
      },
      "outputs": [],
      "source": [
        "print(testM.DivPar2(10))"
      ]
    },
    {
      "cell_type": "code",
      "execution_count": null,
      "metadata": {
        "id": "CDOlAjEQPzs-"
      },
      "outputs": [],
      "source": [
        "#On peut egalement faire\n",
        "from testM import *\n",
        "DitBonjour()"
      ]
    },
    {
      "cell_type": "code",
      "execution_count": null,
      "metadata": {
        "id": "KRHfu5Q2Pzs_"
      },
      "outputs": [],
      "source": [
        "print(DivPar2(10))"
      ]
    },
    {
      "cell_type": "code",
      "execution_count": null,
      "metadata": {
        "id": "CSbvgUcXPzs_"
      },
      "outputs": [],
      "source": [
        "# Ou encore\n",
        "import testM as tm\n",
        "tm.DitBonjour()"
      ]
    },
    {
      "cell_type": "code",
      "execution_count": null,
      "metadata": {
        "id": "BQi_ghRlPzs_"
      },
      "outputs": [],
      "source": [
        "print(tm.DivPar2(10))\n",
        "# délétion des objets"
      ]
    },
    {
      "cell_type": "code",
      "execution_count": null,
      "metadata": {
        "id": "03TibCbEPzs_"
      },
      "outputs": [],
      "source": [
        "# Délétion des objets\n",
        "%reset "
      ]
    },
    {
      "cell_type": "code",
      "execution_count": null,
      "metadata": {
        "id": "QNHCHgfFPzs_"
      },
      "outputs": [],
      "source": [
        "from testM import DitBonjour \n",
        "# Seulement une fonction a ete appelee. Préférer cette dernière méthode pour les grosses librairies.\n",
        "DitBonjour()"
      ]
    },
    {
      "cell_type": "code",
      "execution_count": null,
      "metadata": {
        "id": "71NasNiiPzs_"
      },
      "outputs": [],
      "source": [
        "print(DivPar2(10)) # erreur"
      ]
    },
    {
      "cell_type": "markdown",
      "metadata": {
        "id": "mCaPGUZgPzs_"
      },
      "source": [
        "## 4. Calcul scientifique\n",
        "Voici trois des principales librairies indispensables au calcul scientifique. Deux autres librairies: `pandas`, `scikit-learn`, sont exposées en détail dans des calepins spécifiques."
      ]
    },
    {
      "cell_type": "markdown",
      "metadata": {
        "id": "7A0KXEtOPztA"
      },
      "source": [
        "### 4.0 *Packages*"
      ]
    },
    {
      "cell_type": "markdown",
      "metadata": {
        "id": "HTPwYm1qPztA"
      },
      "source": [
        "#### `NumPy`\n",
        "Cette librairie définit le type de données `array` ainsi que les fonctions de calcul qui y sont associées. Il contient aussi quelques fonctions d'algèbre linéaire et statistiques. Cependant, les fonctions numériques sont beaucoup plus développées dans  `SciPy`. \n",
        "\n",
        "\n",
        "#### `SciPy`\n",
        "Cette librairie est un ensemble très complet de modules d'algèbre linéaire, statistiques et autres algorithmes numériques. Le site  de la documentation en fournit la [liste](http://docs.scipy.org/doc/scipy/reference). \n",
        "\n",
        "\n",
        "\n",
        "#### `Matplotlib`\n",
        "Celle-ci propose des fonctions de visualisation / graphs avec des commandes proches de celles de Matlab. Aussi connue sous le nom de `pylab`. La [gallerie](http://matplotlib.org/1.3.1/gallery.html) de cette librairie propose tout un ensemble d'exemples de graphiques avec le code Python pour les générer. "
      ]
    },
    {
      "cell_type": "code",
      "execution_count": null,
      "metadata": {
        "id": "PvMKgBAJPztA"
      },
      "outputs": [],
      "source": [
        "# Importation\n",
        "import numpy as np\n",
        "from pylab import *\n",
        "gaussian = lambda x: np.exp(-(0.5-x)**2/1.5)\n",
        "x=np.arange(-2,2.5,0.01)\n",
        "y=gaussian(x)\n",
        "plot(x,y)\n",
        "xlabel(\"x values\")\n",
        "ylabel(\"y values\")\n",
        "title(\"Gaussian function\")\n",
        "show()"
      ]
    },
    {
      "cell_type": "markdown",
      "metadata": {
        "id": "HzPiV9Q3PztA"
      },
      "source": [
        "### 4.1 Type Array\n",
        "C'est de loin la structure de données la plus utilisée pour le calcul scientifique sous Python. Elle décrit des tableaux ou *matrices* multi-indices de dimension $ n = 1, 2, 3, \\ldots , 40$. Tous les éléments sont de même type (booléen, entier, réel, complexe). \n",
        "\n",
        "\n",
        "Les tables de données (*data frame*), bases d'analyses statistiques et regroupant des objets de types différents  sont décrits avec la librairie `pandas`.\n",
        "\n",
        "#### Définition du type `array`"
      ]
    },
    {
      "cell_type": "code",
      "execution_count": null,
      "metadata": {
        "id": "uHRunNHdPztA"
      },
      "outputs": [],
      "source": [
        "# Importation\n",
        "import numpy as np\n",
        "mon_tableau_en_dim1 = np.array([44,33,22])\n",
        "print(mon_tableau_en_dim1 )"
      ]
    },
    {
      "cell_type": "code",
      "execution_count": null,
      "metadata": {
        "id": "mDS18eBwPztA"
      },
      "outputs": [],
      "source": [
        "mon_tableau_en_dim2 = np.array([[1,0,0],[0,2,0],[0,0,3]]) # lignes & colones\n",
        "print(mon_tableau_en_dim2)"
      ]
    },
    {
      "cell_type": "code",
      "execution_count": null,
      "metadata": {
        "id": "Frp-rit8PztA"
      },
      "outputs": [],
      "source": [
        "MaListe = [121,245,398,872]\n",
        "mon_tableau = np.array(MaListe)\n",
        "print(mon_tableau)"
      ]
    },
    {
      "cell_type": "code",
      "execution_count": null,
      "metadata": {
        "id": "VLp5lHHUPztB"
      },
      "outputs": [],
      "source": [
        "a = np.array([[0,1],[2,3],[4,5]])\n",
        "a[2,1]"
      ]
    },
    {
      "cell_type": "code",
      "execution_count": null,
      "metadata": {
        "id": "Bv-CQTL_PztB"
      },
      "outputs": [],
      "source": [
        "a[:,1]"
      ]
    },
    {
      "cell_type": "code",
      "execution_count": null,
      "metadata": {
        "id": "ZUsRuVAYPztB"
      },
      "outputs": [],
      "source": [
        "type(a[:,1])"
      ]
    },
    {
      "cell_type": "markdown",
      "metadata": {
        "id": "kVkzNvAePztB"
      },
      "source": [
        "#### Fonctions de type `array`"
      ]
    },
    {
      "cell_type": "code",
      "execution_count": null,
      "metadata": {
        "id": "RK86tgaFPztB"
      },
      "outputs": [],
      "source": [
        "np.arange(21)"
      ]
    },
    {
      "cell_type": "code",
      "execution_count": null,
      "metadata": {
        "id": "f9Tnzf2iPztB"
      },
      "outputs": [],
      "source": [
        "np.ones(5)"
      ]
    },
    {
      "cell_type": "code",
      "execution_count": null,
      "metadata": {
        "id": "i69rKr8MPztB"
      },
      "outputs": [],
      "source": [
        "np.ones((7,5))"
      ]
    },
    {
      "cell_type": "code",
      "execution_count": null,
      "metadata": {
        "id": "5v8boVFGPztB"
      },
      "outputs": [],
      "source": [
        "np.eye(4)"
      ]
    },
    {
      "cell_type": "code",
      "execution_count": null,
      "metadata": {
        "id": "bcHXJL0YPztC"
      },
      "outputs": [],
      "source": [
        "np.linspace(3, 7, 3)"
      ]
    },
    {
      "cell_type": "code",
      "execution_count": null,
      "metadata": {
        "id": "gnZ9ULHsPztC"
      },
      "outputs": [],
      "source": [
        "np.mgrid[0:3,0:2]"
      ]
    },
    {
      "cell_type": "code",
      "execution_count": null,
      "metadata": {
        "id": "p56XNbxgPztC"
      },
      "outputs": [],
      "source": [
        "D = np.diag([111,202,904])\n",
        "print(D)\n",
        "print(np.diag(D))"
      ]
    },
    {
      "cell_type": "code",
      "execution_count": null,
      "metadata": {
        "id": "KTgAYWx3PztC"
      },
      "outputs": [],
      "source": [
        "M = np.array([[10*n+m for n in range(3)] \n",
        "for m in range(2)]) \n",
        "print(M)"
      ]
    },
    {
      "cell_type": "markdown",
      "metadata": {
        "id": "piURi37TPztC"
      },
      "source": [
        "Le module `numpy.random` fournit toute une liste de fonctions pour la génération de matrices aléatoires."
      ]
    },
    {
      "cell_type": "code",
      "execution_count": null,
      "metadata": {
        "id": "K8N8jXi3PztC"
      },
      "outputs": [],
      "source": [
        "from numpy import random\n",
        "random.rand(7,3) #tirage uniforme"
      ]
    },
    {
      "cell_type": "code",
      "execution_count": null,
      "metadata": {
        "id": "f8J4lP5mPztC"
      },
      "outputs": [],
      "source": [
        "random.randn(8,5) #tirage selon la loi N(0,1)"
      ]
    },
    {
      "cell_type": "code",
      "execution_count": null,
      "metadata": {
        "id": "ygXZhKadPztD"
      },
      "outputs": [],
      "source": [
        "v = random.randn(1000)\n",
        "import matplotlib.pyplot as plt\n",
        "h = plt.hist(v,30) # histogramme à 30 pas\n",
        "show()"
      ]
    },
    {
      "cell_type": "markdown",
      "metadata": {
        "id": "paKzn9NRPztD"
      },
      "source": [
        "#### Autres fonctions"
      ]
    },
    {
      "cell_type": "code",
      "execution_count": null,
      "metadata": {
        "id": "sKO7SLE1PztD"
      },
      "outputs": [],
      "source": [
        "a = np.array([[0,1],[2,3],[4,5]])\n",
        "np.ndim(a) # Nombre de dimensions)"
      ]
    },
    {
      "cell_type": "markdown",
      "metadata": {
        "id": "a99LDqG6PztD"
      },
      "source": [
        "Il y a de nombreuses fonctions que l'on peut tester, entre autres:\n",
        "\n",
        "- `np.size(a)` pour le nombre d’éléments, \n",
        "- `np.shape(a)` qui est retourne un tuple contenant la dimension de a,\n",
        "- `np.transpose(a)` ou `a.T` pour la transposée,\n",
        "- `a.min()` ou `np.min(a)`  pour la valeur min'\n",
        "- `a.sum()` ou `np.sum(a)`  pour la somme des valeurs.\n",
        "\n",
        "et beaucoup d'autres fonctions.\n",
        "\n",
        "\n"
      ]
    },
    {
      "cell_type": "markdown",
      "metadata": {
        "id": "RS4C06_ZPztD"
      },
      "source": [
        "#### Opérations sur les `arrays`"
      ]
    },
    {
      "cell_type": "code",
      "execution_count": null,
      "metadata": {
        "id": "NFTQsZDNPztD"
      },
      "outputs": [],
      "source": [
        "# somme\n",
        "a = np.arange(6).reshape(3,2)\n",
        "b = np.arange(3,9).reshape(3,2)\n",
        "c = np.transpose(b)\n",
        "a + b"
      ]
    },
    {
      "cell_type": "code",
      "execution_count": null,
      "metadata": {
        "id": "NyZyexyxPztD"
      },
      "outputs": [],
      "source": [
        "a * b # produit terme à terme"
      ]
    },
    {
      "cell_type": "code",
      "execution_count": null,
      "metadata": {
        "id": "iIFFnGGqPztE"
      },
      "outputs": [],
      "source": [
        "np.dot(a,c) # produit matriciel"
      ]
    },
    {
      "cell_type": "code",
      "execution_count": null,
      "metadata": {
        "id": "GaTx4j1qPztE"
      },
      "outputs": [],
      "source": [
        "np.power(a,2)"
      ]
    },
    {
      "cell_type": "markdown",
      "metadata": {
        "id": "8rk18EKRPztE"
      },
      "source": [
        "Dans d'autres calepins entierement elabore a ce propos, nous parleron de maniere plus étendue des librairies `NumPy` et `SciPy`. Nous finissons ce calepin introductif avec ce que nous appelons les **structures de programmation** et qui représentent l'ossature de ce cours."
      ]
    },
    {
      "cell_type": "markdown",
      "metadata": {
        "id": "1GOUNzlcPztE"
      },
      "source": [
        "## Structures de programmation\n",
        "\n",
        "- Les blocs sont définis par **l’indentation** (en général par pas de 4 espaces);\n",
        "- Une instruction par ligne en *général* (ou instructions séparées par `;`);\n",
        "- Les **commentaires** commencent par `#`, et vont jusqu’à la fin de la ligne;\n",
        "- **Expression booléenne** : une condition est une expression s’évaluant à `True` ou `False`:\n",
        "  - `False` : test logique faux (p.ex. 3 == 4), valeur nulle, chaîne vide (''), liste vide ([]), etc,\n",
        "  - `True` : test logique vrai (p.ex. 2 + 2 == 4), toute valeur ou objet non-nul (et donc s’évaluant\n",
        "par défaut à True *sauf exception*);\n",
        "  - **Tests logiques** : `==`, `!=`, `>`, `>=`, etc;\n",
        "  - **Opérateurs logiques** : `and`, `or`, `not`;\n",
        "  - **Opérateur ternaire** : `valeur **if** condition **else** valeurealt`;\n",
        "- **Expression conditionnelle** : `**if** condition1 : ... [**elif** condition2 : ...] [**else**: ...]`;  \n",
        "- **Boucle for** : `**for** élément **in** itérable`, s’éxecute sur chacun des éléments d’un objet itérable :\n",
        "  - `continue` : interrompt l’itération courante, et reprend la boucle à l’itération suivante,\n",
        "  - `break` : interrompt complètement la boucle;\n",
        "- **Boucle while** : `while condition` : se répéte tant que la condition est vraie, ou après une sortie\n",
        "explicite avec break.\n",
        "\n",
        "Ces structures seront discutées en details dans les calepins à venir."
      ]
    },
    {
      "cell_type": "markdown",
      "metadata": {
        "id": "GHtGi6zkPztE"
      },
      "source": [
        "\n",
        "\n",
        "\n",
        "### <left> <b> <span style=\"color:brown;\">Une liste de thèmes d'exposé est donnée en-dessous et vous êtes appelé à en choisir au moins un que vous présenterez: </span> </b></left>\n",
        "\n",
        "\n",
        "Par ordre décroissant de priorité:\n",
        "\n",
        "### Les thèmes d'exposés de priorité 0.\n",
        "- Etude des expressions régulières par [Kimba SABI N'GOYE](https://github.com/...)\n",
        "- Les modules et méthodes de gestion de fichiers sous Python par [Adeniran OLOFINDJI](https://github.com/...)\n",
        "- Gestion des erreurs et des exceptions par [Yannick AGUENOU](https://github.com/...)\n",
        "\n",
        "\n",
        "### Les thèmes d'exposés de priorité 1.\n",
        "- Introduction à `Numpy` par [...](https://github.com/...)\n",
        "- Introduction à `Matplotlib` par [...](https://github.com/...)\n",
        "\n",
        "### Les thèmes d'exposés de priorité 2.\n",
        "- Introduction à `Pandas` par [...](https://github.com/...)\n",
        "- Introduction à `Seaborn` par [...](https://github.com/...)\n",
        "- Introduction à `Scikit-Learn` par [...](https://github.com/...)\n",
        "\n",
        "\n",
        "### Les thèmes d'exposés de priorité 3.\n",
        "- Les Tests en Python par [...](https://github.com/...)\n",
        "- Le contrôle de version avec `Git`\n",
        "\n",
        "### Les thèmes d'exposés de priorité 4.\n",
        "- Introduction à `SciPy`\n",
        "- Introduction à `Sympy`\n",
        "\n",
        "\n",
        "\n",
        "### Les thèmes d'exposés de priorité 5.\n",
        "- Le module `URLLIB` \n",
        "- Le module `BeautifulSoup`\n",
        "- Le module `NLTK` \n",
        "- Application web avec `Django`\n",
        "\n",
        "\n",
        "### Optionnel\n",
        "- Un tour de `Markdown` dans un calepin Jupyter\n",
        "\n",
        "\n",
        "<left> <b> <span style=\"color:brown;\"> Ressources: </span> </b></left>\n",
        "Les références citées ci-dessous ainsi que celles données sur la [page Github](https://github.com/gabayae/python-pour-le-cs-et-la-sd) peuvent être de très bonnes ressources et fournissent certainement de la docmentation nécessaire dans votre investigation sur les thèmes ci-dessus proposés."
      ]
    },
    {
      "cell_type": "markdown",
      "metadata": {
        "id": "YMDj3f-LPztE"
      },
      "source": [
        "## Références principales\n",
        "\n",
        " 1. **Yaé U. Gaba, J. Sanders; J. Masakuna** (2016); [Introduction to Programming using Python (IPuP)](https://github.com/gabayae/scientific-computing/edit/master/README.md).\n",
        "\n",
        "\n",
        " 2. **Mac Kinney W.** (2013); *Python for Data Analysis*, O’Reilly; [pdf](http://it-ebooks.info/book/104).\n",
        " \n",
        "\n",
        " 3. **Sheppard K.** (2014); *Introduction to Python for Econometrics, Statistics and Data Analysis*,[pdf](https://www.kevinsheppard.com/images/0/09/Python_introduction.pdf).\n",
        " \n",
        "\n",
        " 4. **Moussa Keita** (2017); *Data Science with Python: Algorithm, Statistics, DataViz, DataMining and Machine-Learning*. [pdf](https://mpra.ub.uni-muenchen.de/76653/).\n",
        "\n",
        "\n",
        "\n",
        "\n",
        "## Plus de littérature (Références secondaires)\n",
        "\n",
        "Il existe également de très bons ouvrages imprimés concernant Python. La plupart concernent encore\n",
        "Python 2.x, mais vous ne devrez guère éprouver de difficultés à adapter leurs exemples à Python 3. En\n",
        "langue française, vous pourrez très profitablement consulter les manuels ci-après:\n",
        "\n",
        "- __Programmation   Python__,   par   Tarek   Ziadé,   éditions   Eyrolles,   Paris,   2009,   586   p.,   ISBN\n",
        "978-2-212-12483-5. C’est l’un des premiers ouvrages édités directement en langue française sur le\n",
        "langage Python. Excellent. Une mine de renseignements essentielle si vous voulez acquérir les\n",
        "meilleures pratiques et vous démarquer des débutants.\n",
        "\n",
        "\n",
        "- __Au cœur de Python__, volumes 1 et 2, par Wesley J. Chun, traduction de \n",
        "Python core programming, 2d\n",
        "edition\n",
        " (Prentice Hall) par Marie-Cécile Baland, Anne Bohy et Luc Carité, éditions CampusPress,\n",
        "Paris, 2007, respectivement 645 et 385 p., ISBN 978-2-7440-2148-0 et 978-2-7440-2195-4. C’est un\n",
        "ouvrage de référence indispensable, très bien écrit. \n",
        "\n",
        "\n",
        "- __Apprendre à programmer avec Python__, de Gérard Swinnen (troisième et cinquième éditions), un excellent ouvrage que l'on peut obtenir [ici](https://inforef.be/swi/python.htm).\n",
        "\n",
        "\n",
        "- [Le tutoriel Python](https://docs.python.org/fr/3/tutorial/).\n",
        "\n",
        "\n",
        "- Vous pouvez aussi trouver en ligne et en français, l’excellent cours sur Python 3 de Robert Cordeau,\n",
        "professeur à l’IUT d’Orsay. Il est disponible sur le site de l'[AFPY](http://www.afpy.org/Members/bcordeau/Python3v1-1.pdf/download).\n"
      ]
    },
    {
      "cell_type": "markdown",
      "metadata": {
        "id": "--GyWAlPPztF"
      },
      "source": [
        "****\n",
        "\n",
        "<div class=\"alert-block alert-info\" style=\"margin-top : 20px\">\n",
        "\n",
        "<!--NAVIGATION-->\n",
        "[Sommaire](Index.ipynb) | [1. Variables et Affectations](01.Variables_et_affectations.ipynb) >\n",
        "</div>\n",
        "\n",
        "\n",
        "****\n"
      ]
    }
  ],
  "metadata": {
    "kernelspec": {
      "display_name": "Python 3",
      "language": "python",
      "name": "python3"
    },
    "language_info": {
      "codemirror_mode": {
        "name": "ipython",
        "version": 3
      },
      "file_extension": ".py",
      "mimetype": "text/x-python",
      "name": "python",
      "nbconvert_exporter": "python",
      "pygments_lexer": "ipython3",
      "version": "3.7.4"
    },
    "varInspector": {
      "cols": {
        "lenName": 16,
        "lenType": 16,
        "lenVar": 40
      },
      "kernels_config": {
        "python": {
          "delete_cmd_postfix": "",
          "delete_cmd_prefix": "del ",
          "library": "var_list.py",
          "varRefreshCmd": "print(var_dic_list())"
        },
        "r": {
          "delete_cmd_postfix": ") ",
          "delete_cmd_prefix": "rm(",
          "library": "var_list.r",
          "varRefreshCmd": "cat(var_dic_list()) "
        }
      },
      "types_to_exclude": [
        "module",
        "function",
        "builtin_function_or_method",
        "instance",
        "_Feature"
      ],
      "window_display": false
    },
    "colab": {
      "name": "00.Introduction_à_python.ipynb",
      "provenance": [],
      "include_colab_link": true
    }
  },
  "nbformat": 4,
  "nbformat_minor": 0
}