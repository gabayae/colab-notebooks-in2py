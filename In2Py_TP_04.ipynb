{
  "cells": [
    {
      "cell_type": "markdown",
      "metadata": {
        "id": "view-in-github",
        "colab_type": "text"
      },
      "source": [
        "<a href=\"https://colab.research.google.com/github/gabayae/colab-notebooks-in2py/blob/main/In2Py_TP_04.ipynb\" target=\"_parent\"><img src=\"https://colab.research.google.com/assets/colab-badge.svg\" alt=\"Open In Colab\"/></a>"
      ]
    },
    {
      "cell_type": "markdown",
      "source": [
        "\n",
        "\n",
        "### <center> <b> <span style=\"color:blue;\"> Travaux Pratiques: Boucles </span> </b></center>\n"
      ],
      "metadata": {
        "id": "QTGiuJVPhPxl"
      }
    },
    {
      "cell_type": "markdown",
      "source": [
        "#### Exercice 0\n",
        ">On se propose de résoudre dans l'ensemble des entiers naturels l'inéquation $2n(n+1)<100$.\n",
        "En utilisant une boucle **While**, écris un programme qui renvoie les solutions entières de cette inéquation."
      ],
      "metadata": {
        "id": "6f-8X1xjhV4p"
      }
    },
    {
      "cell_type": "markdown",
      "metadata": {
        "id": "USaieP9c9Nc5"
      },
      "source": [
        "#### Exercice 1\n",
        "> En utilisant une boucle **For**, écris un programme qui calcule la somme des 30 premiers entiers naturels non nuls."
      ]
    },
    {
      "cell_type": "code",
      "execution_count": null,
      "metadata": {
        "id": "-a76WFyH9Nc7"
      },
      "outputs": [],
      "source": [
        ""
      ]
    },
    {
      "cell_type": "markdown",
      "metadata": {
        "id": "_070Czs09Nc8"
      },
      "source": [
        "#### Exercice 2\n",
        ">Refais l'exercice 1 en utilisant une boucle **While**."
      ]
    },
    {
      "cell_type": "code",
      "source": [
        ""
      ],
      "metadata": {
        "id": "83HZ7Cc2FxUe"
      },
      "execution_count": null,
      "outputs": []
    },
    {
      "cell_type": "code",
      "execution_count": null,
      "metadata": {
        "id": "m7dg2bhR9Nc9"
      },
      "outputs": [],
      "source": [
        ""
      ]
    },
    {
      "cell_type": "markdown",
      "metadata": {
        "id": "Hg1vBggc9Nc_"
      },
      "source": [
        "#### Exercice 3\n",
        ">En utilisant une boucle **For**, écris un programme qui calcule le produit des 9 premiers entiers naturels non nuls."
      ]
    },
    {
      "cell_type": "code",
      "execution_count": null,
      "metadata": {
        "id": "h0TkyvqS9NdB"
      },
      "outputs": [],
      "source": [
        ""
      ]
    },
    {
      "cell_type": "markdown",
      "metadata": {
        "id": "a2iZm5y_9NdD"
      },
      "source": [
        "#### Exercice 4\n",
        "> Refais l'exercice 3 en utilisant une boucle **While**."
      ]
    },
    {
      "cell_type": "markdown",
      "metadata": {
        "id": "rb3k7Bve9NdE"
      },
      "source": [
        "#### Exercice 5 \n",
        ">Écris un programme qui demande à l'utilisateur de saisir un nombre n et qui affiche tous les nombres pairs de $1$ à $n$ en utilisant la boucle **For**."
      ]
    },
    {
      "cell_type": "code",
      "execution_count": null,
      "metadata": {
        "id": "ibXs9RCB9NdF"
      },
      "outputs": [],
      "source": [
        ""
      ]
    },
    {
      "cell_type": "markdown",
      "metadata": {
        "id": "HPC3bfyE9NdG"
      },
      "source": [
        "#### Exercice 6\n",
        ">Refais l'exercice 5 en utilisant la boucle **While**."
      ]
    },
    {
      "cell_type": "code",
      "execution_count": null,
      "metadata": {
        "id": "dRuTyo3m9NdH"
      },
      "outputs": [],
      "source": [
        ""
      ]
    },
    {
      "cell_type": "markdown",
      "metadata": {
        "id": "6fNPIIdQ9NdH"
      },
      "source": [
        "#### Exercice 7\n",
        ">Écris un programme qui demande à l'utilisateur de saisir un nombre n et qui affiche tous les nombres impairs de 1 à n en utilisant la boucle **For**."
      ]
    },
    {
      "cell_type": "code",
      "execution_count": null,
      "metadata": {
        "id": "LuVEv9Lc9NdI"
      },
      "outputs": [],
      "source": [
        ""
      ]
    },
    {
      "cell_type": "markdown",
      "metadata": {
        "id": "HIlapsJ89NdK"
      },
      "source": [
        "#### Exercice 8\n",
        ">Refais l'exercice 7 en utilisant la boucle **While**.\n",
        "\n"
      ]
    },
    {
      "cell_type": "code",
      "execution_count": null,
      "metadata": {
        "id": "Igvjeb2E9NdM"
      },
      "outputs": [],
      "source": [
        ""
      ]
    },
    {
      "cell_type": "markdown",
      "metadata": {
        "id": "KOYLg_e79NdU"
      },
      "source": [
        "#### Exercice 9\n",
        ">Écris un programme qui demande à l'utilisateur de saisir un nombre n et qui affiche sa table de multiplication  en utilisant la boucle **For**."
      ]
    },
    {
      "cell_type": "code",
      "execution_count": null,
      "metadata": {
        "id": "BvOU9oLw9NdU"
      },
      "outputs": [],
      "source": [
        ""
      ]
    },
    {
      "cell_type": "markdown",
      "metadata": {
        "id": "Ukzy78L09NdV"
      },
      "source": [
        "#### Exercice 10\n",
        ">Refais l'exercice 9 en utilisant la boucle **While**."
      ]
    },
    {
      "cell_type": "code",
      "execution_count": null,
      "metadata": {
        "id": "fRJ3oufC9NdV"
      },
      "outputs": [],
      "source": [
        ""
      ]
    },
    {
      "cell_type": "markdown",
      "metadata": {
        "id": "AQW435Hq9NdW"
      },
      "source": [
        "#### Exercice 11\n",
        ">Écris un programme qui demande à l'utilisateur d'entrer un nombre et de trouver tous ses diviseurs  en utilisant la boucle **For**."
      ]
    },
    {
      "cell_type": "code",
      "execution_count": null,
      "metadata": {
        "id": "Zjs_NfT89NdX"
      },
      "outputs": [],
      "source": [
        ""
      ]
    },
    {
      "cell_type": "markdown",
      "metadata": {
        "id": "pGp6labk9NdX"
      },
      "source": [
        "#### Exercice 12\n",
        ">Écris un programme qui demande à l'utilisateur d'entrer un entier naturel n et de trouver tous sa factorielle n!  en utilisant la boucle **For**. On rappelle que $n!=n*(n-1)*(n-2)...3*2*1$."
      ]
    },
    {
      "cell_type": "code",
      "execution_count": null,
      "metadata": {
        "id": "iDw3TKDU9NdX"
      },
      "outputs": [],
      "source": [
        ""
      ]
    },
    {
      "cell_type": "markdown",
      "metadata": {
        "id": "eyKh1oTo9NdY"
      },
      "source": [
        "#### Exercice 13\n",
        ">Écris un programme qui demande à l'utilisateur d'entrer deux entiers naturels (plus petits que 15) et de trouver leur plus petit commun multiple utilisant la boucle **For**."
      ]
    },
    {
      "cell_type": "markdown",
      "metadata": {
        "id": "j4zO7-ak9NdZ"
      },
      "source": [
        "#### Exercice 14\n",
        ">Écris un programme pour afficher la série de Fibonacci jusqu'à n termes en utilisant une boucle."
      ]
    },
    {
      "cell_type": "code",
      "execution_count": null,
      "metadata": {
        "id": "5UknLOdY9NdZ"
      },
      "outputs": [],
      "source": [
        ""
      ]
    },
    {
      "cell_type": "markdown",
      "metadata": {
        "id": "_RBVFZdl9Nda"
      },
      "source": [
        "#### Exercice 15\n",
        ">Écris, en utilisant une boucle **For**, un programme pour afficher 5 fois de suite le message \"Python est un très bon langage de programmation\"."
      ]
    },
    {
      "cell_type": "markdown",
      "metadata": {
        "id": "VUgurSg59Nda"
      },
      "source": [
        "#### Exercice 16\n",
        ">Écris, en utilisant une boucle **While**, un programme pour afficher 7 fois de suite le message \"A cette allure je finirai par tout abandonner pour la programmation\"."
      ]
    },
    {
      "cell_type": "code",
      "execution_count": null,
      "metadata": {
        "id": "TgE99bdh9Ndb"
      },
      "outputs": [],
      "source": [
        ""
      ]
    },
    {
      "cell_type": "markdown",
      "metadata": {
        "id": "DVgTXQRX9Ndb"
      },
      "source": [
        "#### Exercice 17\n",
        ">Écris, en utilisant une boucle **For**, un programme qui compte à l'envers de 10 à 0 puis qui affiche le message \"Partez\".\n"
      ]
    },
    {
      "cell_type": "code",
      "execution_count": null,
      "metadata": {
        "id": "w4L4KV6C9Ndc"
      },
      "outputs": [],
      "source": [
        ""
      ]
    },
    {
      "cell_type": "markdown",
      "metadata": {
        "id": "raJAaAd29Ndc"
      },
      "source": [
        "#### Exercice 18\n",
        ">Écris, en utilisant une boucle **For**, un programme qui affiche chaque élément d'une chaine de caractère."
      ]
    },
    {
      "cell_type": "markdown",
      "metadata": {
        "id": "095_Dtoc9Ndf"
      },
      "source": [
        "#### Exercice 19\n",
        ">Écris, en utilisant une boucle **For**, un programme qui compte à l'envers de 10 à 0 puis qui affiche le message \"Partez\"."
      ]
    },
    {
      "cell_type": "code",
      "execution_count": null,
      "metadata": {
        "id": "MOV4pZzn9Ndg"
      },
      "outputs": [],
      "source": [
        ""
      ]
    },
    {
      "cell_type": "markdown",
      "metadata": {
        "id": "5sUU7dgJ9Ndh"
      },
      "source": [
        "<center> <b> <span style=\"color:orange;\"> 🎉 FÉLICITATIONS ! 🎉 </span> </b></center>"
      ]
    }
  ],
  "metadata": {
    "colab": {
      "name": "In2Py_TP_04.ipynb",
      "provenance": [],
      "collapsed_sections": [],
      "include_colab_link": true
    },
    "kernelspec": {
      "display_name": "Python 3",
      "language": "python",
      "name": "python3"
    },
    "language_info": {
      "codemirror_mode": {
        "name": "ipython",
        "version": 3
      },
      "file_extension": ".py",
      "mimetype": "text/x-python",
      "name": "python",
      "nbconvert_exporter": "python",
      "pygments_lexer": "ipython3",
      "version": "3.8.10"
    }
  },
  "nbformat": 4,
  "nbformat_minor": 0
}